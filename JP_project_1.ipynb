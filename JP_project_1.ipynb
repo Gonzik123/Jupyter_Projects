{
 "cells": [
  {
   "cell_type": "markdown",
   "id": "ea0ec3e8-4101-4ef8-847f-c50669c8e4ba",
   "metadata": {},
   "source": [
    "# Исследовательский анализ рынка Москвы, среди точек общественного питания\n",
    "\n",
    "## Цель проекта\n",
    "Провести исследовательский анализ рынка Москвы для Инвесторов из фонда \"Shut Up and Take My Money\". \n",
    "\n",
    "## Задачи\n",
    "1. Загрузить данные и познакомиться с их содержимым.\n",
    "2. Провести предобработку данных.\n",
    "3. Провести исследовательский анализ данных:\n",
    "4. Сформулировать выводы по проведённому анализу.\n",
    "\n",
    "## Данные\n",
    "`/datasets/rest_info.csv`- содержит информацию о заведениях общественного питания;\n",
    "\n",
    "`/datasets/rest_price.csv` - содержит информацию о среднем чеке в заведениях общественного питания."
   ]
  },
  {
   "cell_type": "markdown",
   "id": "15c3080d-fc5c-44cb-bf41-2ecb9bc5ca0f",
   "metadata": {},
   "source": [
    "## Описание данных\n",
    "#### Описание датасета `/datasets/rest_info.csv`:\n",
    "\n",
    "`name` — название заведения;\n",
    "\n",
    "`address` — адрес заведения;\n",
    "\n",
    "`district` — административный район, в котором находится заведение, например Центральный дминистративный округ;\n",
    "\n",
    "`category` — категория заведения, например «кафе», «пиццерия» или «кофейня»;\n",
    "\n",
    "`hours` — информация о днях и часах работы;\n",
    "\n",
    "`rating` — рейтинг заведения по оценкам пользователей в Яндекс Картах (высшая оценка — 5.0);\n",
    "\n",
    "\n",
    "`chain` — число, выраженное 0 или 1, которое показывает, является ли заведение сетевым (для маленьких сетей могут встречаться ошибки):\n",
    "0 — заведение не является сетевым;\n",
    "\n",
    "1 — заведение является сетевым.\n",
    "\n",
    "`seats` — количество посадочных мест.\n",
    "\n",
    "\n",
    "\n",
    "#### Описание датасета  `/datasets/rest_price.csv`:\n",
    "\n",
    "`price` — категория цен в заведении, например «средние», «ниже среднего», «выше среднего» и так далее;\n",
    "\n",
    "`avg_bill` — строка, которая хранит среднюю стоимость заказа в виде диапазона, например:\n",
    "\n",
    "«Средний счёт: 1000–1500 ₽»;\n",
    "\n",
    "«Цена чашки капучино: 130–220 ₽»;\n",
    "\n",
    "«Цена бокала пива: 400–600 ₽».\n",
    "\n",
    "и так далее;\n",
    "\n",
    "`middle_avg_bill` — число с оценкой среднего чека, которое указано только для значений из столбца avg_bill, начинающихся с подстроки «Средний счёт»:\n",
    "\n",
    "Если в строке указан ценовой диапазон из двух значений, в столбец войдёт медиана этих двух значений.\n",
    "\n",
    "Если в строке указано одно число — цена без диапазона, то в столбец войдёт это число.\n",
    "\n",
    "Если значения нет или оно не начинается с подстроки «Средний счёт», то в столбец ничего не войдёт.\n",
    "\n",
    "`middle_coffee_cup` — число с оценкой одной чашки капучино, которое указано только для значений из столбца avg_bill, начинающихся с подстроки «Цена одной чашки капучино»:\n",
    "\n",
    "Если в строке указан ценовой диапазон из двух значений, в столбец войдёт медиана этих двух значений.\n",
    "\n",
    "Если в строке указано одно число — цена без диапазона, то в столбец войдёт это число.\n",
    "\n",
    "Если значения нет или оно не начинается с подстроки «Цена одной чашки капучино», то в столбец ничего не войдёт.\n"
   ]
  },
  {
   "cell_type": "markdown",
   "id": "0aca7668-dd4a-4aab-b4ae-230b97efc56b",
   "metadata": {},
   "source": [
    "## 1. Загрузка данных и знакомство с ними"
   ]
  },
  {
   "cell_type": "code",
   "execution_count": 1,
   "id": "71bbe7a6",
   "metadata": {},
   "outputs": [],
   "source": [
    "# Импортируем библиотеки\n",
    "import pandas as pd\n",
    "\n",
    "# Загружаем библиотеки для визуализации данных\n",
    "import matplotlib.pyplot as plt\n",
    "import seaborn as sns\n",
    "\n",
    "# Загружаем библиотеку для расчёта коэффициента корреляции phi_k\n",
    "from phik import phik_matrix"
   ]
  },
  {
   "cell_type": "markdown",
   "id": "0b08564d-be2c-468b-a18c-4a664df0cb5f",
   "metadata": {},
   "source": [
    "Для начала выгрузим и познакомимся с предоставленными данными"
   ]
  },
  {
   "cell_type": "code",
   "execution_count": 2,
   "id": "556cd87d-4caa-4dd2-9140-cde161f60b62",
   "metadata": {},
   "outputs": [],
   "source": [
    "df_info = pd.read_csv('https://code.s3.yandex.net/datasets/rest_info.csv')\n",
    "df_price = pd.read_csv('https://code.s3.yandex.net/datasets/rest_price.csv')"
   ]
  },
  {
   "cell_type": "code",
   "execution_count": 3,
   "id": "72edc288-94af-4147-9763-d4cf43d7c4b2",
   "metadata": {},
   "outputs": [
    {
     "name": "stdout",
     "output_type": "stream",
     "text": [
      "<class 'pandas.core.frame.DataFrame'>\n",
      "RangeIndex: 8406 entries, 0 to 8405\n",
      "Data columns (total 9 columns):\n",
      " #   Column    Non-Null Count  Dtype  \n",
      "---  ------    --------------  -----  \n",
      " 0   id        8406 non-null   object \n",
      " 1   name      8406 non-null   object \n",
      " 2   category  8406 non-null   object \n",
      " 3   address   8406 non-null   object \n",
      " 4   district  8406 non-null   object \n",
      " 5   hours     7870 non-null   object \n",
      " 6   rating    8406 non-null   float64\n",
      " 7   chain     8406 non-null   int64  \n",
      " 8   seats     4795 non-null   float64\n",
      "dtypes: float64(2), int64(1), object(6)\n",
      "memory usage: 591.2+ KB\n"
     ]
    }
   ],
   "source": [
    "df_info.info()"
   ]
  },
  {
   "cell_type": "code",
   "execution_count": 4,
   "id": "49d27e7c-6176-4356-b06b-5a3a2581ec33",
   "metadata": {},
   "outputs": [
    {
     "data": {
      "text/html": [
       "<div>\n",
       "<style scoped>\n",
       "    .dataframe tbody tr th:only-of-type {\n",
       "        vertical-align: middle;\n",
       "    }\n",
       "\n",
       "    .dataframe tbody tr th {\n",
       "        vertical-align: top;\n",
       "    }\n",
       "\n",
       "    .dataframe thead th {\n",
       "        text-align: right;\n",
       "    }\n",
       "</style>\n",
       "<table border=\"1\" class=\"dataframe\">\n",
       "  <thead>\n",
       "    <tr style=\"text-align: right;\">\n",
       "      <th></th>\n",
       "      <th>id</th>\n",
       "      <th>name</th>\n",
       "      <th>category</th>\n",
       "      <th>address</th>\n",
       "      <th>district</th>\n",
       "      <th>hours</th>\n",
       "      <th>rating</th>\n",
       "      <th>chain</th>\n",
       "      <th>seats</th>\n",
       "    </tr>\n",
       "  </thead>\n",
       "  <tbody>\n",
       "    <tr>\n",
       "      <th>0</th>\n",
       "      <td>0c3e3439a8c64ea5bf6ecd6ca6ae19f0</td>\n",
       "      <td>WoWфли</td>\n",
       "      <td>кафе</td>\n",
       "      <td>Москва, улица Дыбенко, 7/1</td>\n",
       "      <td>Северный административный округ</td>\n",
       "      <td>ежедневно, 10:00–22:00</td>\n",
       "      <td>5.0</td>\n",
       "      <td>0</td>\n",
       "      <td>NaN</td>\n",
       "    </tr>\n",
       "    <tr>\n",
       "      <th>1</th>\n",
       "      <td>045780ada3474c57a2112e505d74b633</td>\n",
       "      <td>Четыре комнаты</td>\n",
       "      <td>ресторан</td>\n",
       "      <td>Москва, улица Дыбенко, 36, корп. 1</td>\n",
       "      <td>Северный административный округ</td>\n",
       "      <td>ежедневно, 10:00–22:00</td>\n",
       "      <td>4.5</td>\n",
       "      <td>0</td>\n",
       "      <td>4.0</td>\n",
       "    </tr>\n",
       "    <tr>\n",
       "      <th>2</th>\n",
       "      <td>1070b6b59144425896c65889347fcff6</td>\n",
       "      <td>Хазри</td>\n",
       "      <td>кафе</td>\n",
       "      <td>Москва, Клязьминская улица, 15</td>\n",
       "      <td>Северный административный округ</td>\n",
       "      <td>пн-чт 11:00–02:00; пт,сб 11:00–05:00; вс 11:00...</td>\n",
       "      <td>4.6</td>\n",
       "      <td>0</td>\n",
       "      <td>45.0</td>\n",
       "    </tr>\n",
       "    <tr>\n",
       "      <th>3</th>\n",
       "      <td>03ac7cd772104f65b58b349dc59f03ee</td>\n",
       "      <td>Dormouse Coffee Shop</td>\n",
       "      <td>кофейня</td>\n",
       "      <td>Москва, улица Маршала Федоренко, 12</td>\n",
       "      <td>Северный административный округ</td>\n",
       "      <td>ежедневно, 09:00–22:00</td>\n",
       "      <td>5.0</td>\n",
       "      <td>0</td>\n",
       "      <td>NaN</td>\n",
       "    </tr>\n",
       "    <tr>\n",
       "      <th>4</th>\n",
       "      <td>a163aada139c4c7f87b0b1c0b466a50f</td>\n",
       "      <td>Иль Марко</td>\n",
       "      <td>пиццерия</td>\n",
       "      <td>Москва, Правобережная улица, 1Б</td>\n",
       "      <td>Северный административный округ</td>\n",
       "      <td>ежедневно, 10:00–22:00</td>\n",
       "      <td>5.0</td>\n",
       "      <td>1</td>\n",
       "      <td>148.0</td>\n",
       "    </tr>\n",
       "  </tbody>\n",
       "</table>\n",
       "</div>"
      ],
      "text/plain": [
       "                                 id                  name  category  \\\n",
       "0  0c3e3439a8c64ea5bf6ecd6ca6ae19f0                WoWфли      кафе   \n",
       "1  045780ada3474c57a2112e505d74b633        Четыре комнаты  ресторан   \n",
       "2  1070b6b59144425896c65889347fcff6                 Хазри      кафе   \n",
       "3  03ac7cd772104f65b58b349dc59f03ee  Dormouse Coffee Shop   кофейня   \n",
       "4  a163aada139c4c7f87b0b1c0b466a50f             Иль Марко  пиццерия   \n",
       "\n",
       "                               address                         district  \\\n",
       "0           Москва, улица Дыбенко, 7/1  Северный административный округ   \n",
       "1   Москва, улица Дыбенко, 36, корп. 1  Северный административный округ   \n",
       "2       Москва, Клязьминская улица, 15  Северный административный округ   \n",
       "3  Москва, улица Маршала Федоренко, 12  Северный административный округ   \n",
       "4      Москва, Правобережная улица, 1Б  Северный административный округ   \n",
       "\n",
       "                                               hours  rating  chain  seats  \n",
       "0                             ежедневно, 10:00–22:00     5.0      0    NaN  \n",
       "1                             ежедневно, 10:00–22:00     4.5      0    4.0  \n",
       "2  пн-чт 11:00–02:00; пт,сб 11:00–05:00; вс 11:00...     4.6      0   45.0  \n",
       "3                             ежедневно, 09:00–22:00     5.0      0    NaN  \n",
       "4                             ежедневно, 10:00–22:00     5.0      1  148.0  "
      ]
     },
     "execution_count": 4,
     "metadata": {},
     "output_type": "execute_result"
    }
   ],
   "source": [
    "df_info.head()"
   ]
  },
  {
   "cell_type": "markdown",
   "id": "319e196d-617e-4ccf-a2b6-5db45ef6e1f7",
   "metadata": {},
   "source": [
    "Датасет `rest_info.csv` содержит в себе 8406 строк и 9 полей с информацией о заведение"
   ]
  },
  {
   "cell_type": "markdown",
   "id": "83ae9059-bc1e-4777-888a-fe4878243f97",
   "metadata": {},
   "source": [
    "После первичного анализа можно сделать следующие выводы:\n",
    "1. Пропуски содержутся в полях `seats` и `hours`;\n",
    "2. В датасете есть 3 числовых поля: `rating`, `chain`, `seats`. Размерность этих полей можно оптимизировать.\n",
    "\n"
   ]
  },
  {
   "cell_type": "code",
   "execution_count": 5,
   "id": "5265407e-4434-4f8c-a571-db10020f5eea",
   "metadata": {},
   "outputs": [
    {
     "name": "stdout",
     "output_type": "stream",
     "text": [
      "<class 'pandas.core.frame.DataFrame'>\n",
      "RangeIndex: 4058 entries, 0 to 4057\n",
      "Data columns (total 5 columns):\n",
      " #   Column             Non-Null Count  Dtype  \n",
      "---  ------             --------------  -----  \n",
      " 0   id                 4058 non-null   object \n",
      " 1   price              3315 non-null   object \n",
      " 2   avg_bill           3816 non-null   object \n",
      " 3   middle_avg_bill    3149 non-null   float64\n",
      " 4   middle_coffee_cup  535 non-null    float64\n",
      "dtypes: float64(2), object(3)\n",
      "memory usage: 158.6+ KB\n"
     ]
    }
   ],
   "source": [
    "df_price.info()"
   ]
  },
  {
   "cell_type": "code",
   "execution_count": 6,
   "id": "2a718de5-3528-4869-a531-141115fba906",
   "metadata": {},
   "outputs": [
    {
     "data": {
      "text/html": [
       "<div>\n",
       "<style scoped>\n",
       "    .dataframe tbody tr th:only-of-type {\n",
       "        vertical-align: middle;\n",
       "    }\n",
       "\n",
       "    .dataframe tbody tr th {\n",
       "        vertical-align: top;\n",
       "    }\n",
       "\n",
       "    .dataframe thead th {\n",
       "        text-align: right;\n",
       "    }\n",
       "</style>\n",
       "<table border=\"1\" class=\"dataframe\">\n",
       "  <thead>\n",
       "    <tr style=\"text-align: right;\">\n",
       "      <th></th>\n",
       "      <th>id</th>\n",
       "      <th>price</th>\n",
       "      <th>avg_bill</th>\n",
       "      <th>middle_avg_bill</th>\n",
       "      <th>middle_coffee_cup</th>\n",
       "    </tr>\n",
       "  </thead>\n",
       "  <tbody>\n",
       "    <tr>\n",
       "      <th>0</th>\n",
       "      <td>045780ada3474c57a2112e505d74b633</td>\n",
       "      <td>выше среднего</td>\n",
       "      <td>Средний счёт:1500–1600 ₽</td>\n",
       "      <td>1550.0</td>\n",
       "      <td>NaN</td>\n",
       "    </tr>\n",
       "    <tr>\n",
       "      <th>1</th>\n",
       "      <td>1070b6b59144425896c65889347fcff6</td>\n",
       "      <td>средние</td>\n",
       "      <td>Средний счёт:от 1000 ₽</td>\n",
       "      <td>1000.0</td>\n",
       "      <td>NaN</td>\n",
       "    </tr>\n",
       "    <tr>\n",
       "      <th>2</th>\n",
       "      <td>03ac7cd772104f65b58b349dc59f03ee</td>\n",
       "      <td>NaN</td>\n",
       "      <td>Цена чашки капучино:155–185 ₽</td>\n",
       "      <td>NaN</td>\n",
       "      <td>170.0</td>\n",
       "    </tr>\n",
       "    <tr>\n",
       "      <th>3</th>\n",
       "      <td>a163aada139c4c7f87b0b1c0b466a50f</td>\n",
       "      <td>средние</td>\n",
       "      <td>Средний счёт:400–600 ₽</td>\n",
       "      <td>500.0</td>\n",
       "      <td>NaN</td>\n",
       "    </tr>\n",
       "    <tr>\n",
       "      <th>4</th>\n",
       "      <td>8a343546b24e4a499ad96eb7d0797a8a</td>\n",
       "      <td>средние</td>\n",
       "      <td>NaN</td>\n",
       "      <td>NaN</td>\n",
       "      <td>NaN</td>\n",
       "    </tr>\n",
       "  </tbody>\n",
       "</table>\n",
       "</div>"
      ],
      "text/plain": [
       "                                 id          price  \\\n",
       "0  045780ada3474c57a2112e505d74b633  выше среднего   \n",
       "1  1070b6b59144425896c65889347fcff6        средние   \n",
       "2  03ac7cd772104f65b58b349dc59f03ee            NaN   \n",
       "3  a163aada139c4c7f87b0b1c0b466a50f        средние   \n",
       "4  8a343546b24e4a499ad96eb7d0797a8a        средние   \n",
       "\n",
       "                        avg_bill  middle_avg_bill  middle_coffee_cup  \n",
       "0       Средний счёт:1500–1600 ₽           1550.0                NaN  \n",
       "1         Средний счёт:от 1000 ₽           1000.0                NaN  \n",
       "2  Цена чашки капучино:155–185 ₽              NaN              170.0  \n",
       "3         Средний счёт:400–600 ₽            500.0                NaN  \n",
       "4                            NaN              NaN                NaN  "
      ]
     },
     "execution_count": 6,
     "metadata": {},
     "output_type": "execute_result"
    }
   ],
   "source": [
    "df_price.head()"
   ]
  },
  {
   "cell_type": "markdown",
   "id": "35ce80bf-19ab-40e7-addb-c4abe9aaa2b1",
   "metadata": {},
   "source": [
    "Датасет `rest_price.csv` содержит в себе 4058 строк и 5 полей с информацией о ценах"
   ]
  },
  {
   "cell_type": "markdown",
   "id": "f40fb065-cf8d-45cd-a34c-91be9482129f",
   "metadata": {},
   "source": [
    "После первичного анализа можно сделать следуюшие выводы:\n",
    "1. Пропуски содержутся во всех полях кроме id\n",
    "2. В датастете есть 2 числовых поля `middle_avg_bill` и `middle_coffee_cup`. Размерность этих полей можно оптимизировать."
   ]
  },
  {
   "cell_type": "markdown",
   "id": "0a77202e-e6fc-4365-95e2-c89fdc8fa86e",
   "metadata": {},
   "source": [
    "#### Вывод первичного анализа\n",
    "1. Названия столбцов изначально приведены к стилю snake case, благодря чему, можно не изменять их названия;\n",
    "2. Типы данных во всех полях соответсвуют значениях в них;\n",
    "3. В датасете `rest_price.csv` находится много пропусков, нужно внимательно разобраться в причинах их появлений\n",
    "\n",
    "В целом, данные находятся в хорошем и корректном виде."
   ]
  },
  {
   "cell_type": "markdown",
   "id": "d461d1a6-cd5b-4842-9221-e7f44e39c5de",
   "metadata": {},
   "source": [
    "## 2. Предобработка данных\n"
   ]
  },
  {
   "cell_type": "markdown",
   "id": "c90ce044-1307-4f4d-aaa2-7eb4d941a071",
   "metadata": {},
   "source": [
    "### 2.1 Опимизируем типы данных\n",
    "Оптимизируем целочисленные данные в обоих датасетах.\n",
    "\n",
    "Будем использовать метод to_numeric."
   ]
  },
  {
   "cell_type": "code",
   "execution_count": 7,
   "id": "34feacdc-20e7-42eb-9ab3-465cf61b6067",
   "metadata": {},
   "outputs": [],
   "source": [
    "# Начинаем с датафрейма df_info\n",
    "# Опимизируем rating и seats во float , т.к. поле rating содержит дробное число (5 балльная оценка), а в поле seats есть пропуски.\n",
    "for column in ['rating', 'seats']:\n",
    "    df_info[column] = pd.to_numeric(df_info[column], downcast='float')\n",
    "# В поле chain пропусков нет, поэтому его можно оптимизировать до integer\n",
    "df_info['chain'] = pd.to_numeric(df_info['chain'], downcast='integer')\n",
    "\n",
    "# Также оптимизируем df_price\n",
    "# В обоих полях есть пропуски, поэтому используем float\n",
    "for column in ['middle_avg_bill', 'middle_coffee_cup']:\n",
    "    df_price[column] = pd.to_numeric(df_price[column], downcast='float')"
   ]
  },
  {
   "cell_type": "markdown",
   "id": "4ab23c83-af7e-4c69-bbb6-b2f29465f9f6",
   "metadata": {},
   "source": [
    "Проверяем типы данных в наших датафреймах:\n"
   ]
  },
  {
   "cell_type": "code",
   "execution_count": 8,
   "id": "94ba5737-8cc1-4914-a083-6d1075cd1437",
   "metadata": {},
   "outputs": [
    {
     "data": {
      "text/plain": [
       "id           object\n",
       "name         object\n",
       "category     object\n",
       "address      object\n",
       "district     object\n",
       "hours        object\n",
       "rating      float32\n",
       "chain          int8\n",
       "seats       float32\n",
       "dtype: object"
      ]
     },
     "execution_count": 8,
     "metadata": {},
     "output_type": "execute_result"
    }
   ],
   "source": [
    "df_info.dtypes"
   ]
  },
  {
   "cell_type": "code",
   "execution_count": 9,
   "id": "7630a94d-4c92-46cb-8bad-3c62c16b19ac",
   "metadata": {},
   "outputs": [
    {
     "data": {
      "text/plain": [
       "id                    object\n",
       "price                 object\n",
       "avg_bill              object\n",
       "middle_avg_bill      float32\n",
       "middle_coffee_cup    float32\n",
       "dtype: object"
      ]
     },
     "execution_count": 9,
     "metadata": {},
     "output_type": "execute_result"
    }
   ],
   "source": [
    "df_price.dtypes"
   ]
  },
  {
   "cell_type": "markdown",
   "id": "470266e0-5b7e-46b3-a777-4c8e8d26eef6",
   "metadata": {},
   "source": [
    "Оба датафрейма были успешно оптимизированы с помощью размернности данных."
   ]
  },
  {
   "cell_type": "code",
   "execution_count": 10,
   "id": "f3394d45-af7b-4b95-bd1d-430dfe30a5e9",
   "metadata": {},
   "outputs": [
    {
     "name": "stdout",
     "output_type": "stream",
     "text": [
      "<class 'pandas.core.frame.DataFrame'>\n",
      "Int64Index: 8406 entries, 0 to 8405\n",
      "Data columns (total 13 columns):\n",
      " #   Column             Non-Null Count  Dtype  \n",
      "---  ------             --------------  -----  \n",
      " 0   id                 8406 non-null   object \n",
      " 1   name               8406 non-null   object \n",
      " 2   category           8406 non-null   object \n",
      " 3   address            8406 non-null   object \n",
      " 4   district           8406 non-null   object \n",
      " 5   hours              7870 non-null   object \n",
      " 6   rating             8406 non-null   float32\n",
      " 7   chain              8406 non-null   int8   \n",
      " 8   seats              4795 non-null   float32\n",
      " 9   price              3315 non-null   object \n",
      " 10  avg_bill           3816 non-null   object \n",
      " 11  middle_avg_bill    3149 non-null   float32\n",
      " 12  middle_coffee_cup  535 non-null    float32\n",
      "dtypes: float32(4), int8(1), object(8)\n",
      "memory usage: 730.6+ KB\n"
     ]
    }
   ],
   "source": [
    "# Объединим оба датафрейма в один\n",
    "df = pd.merge(df_info, df_price, on='id', how='left')\n",
    "df.info()"
   ]
  },
  {
   "cell_type": "markdown",
   "id": "eddd93e0-96bc-449c-9e14-6c5b734681fe",
   "metadata": {},
   "source": [
    "Мы используем метод \"left\", чтобы не потерять важную информацию о точках питания."
   ]
  },
  {
   "cell_type": "markdown",
   "id": "800b8953-cf1c-4bca-b2dc-4c4b4dbe8298",
   "metadata": {},
   "source": [
    "### 2.2. Проверяем наличие пропусков в данных\n",
    "\n",
    "При первичном анализе в датафреймах были обнаружены пропуски. Изучим сколько пропусков и какая их доля. А также выдвинем гипотезы о том, чем могли они быть вызаны."
   ]
  },
  {
   "cell_type": "code",
   "execution_count": 11,
   "id": "6efeca24-9c20-4cfb-98c7-21ca53610d30",
   "metadata": {},
   "outputs": [
    {
     "data": {
      "text/plain": [
       "id                      0\n",
       "name                    0\n",
       "category                0\n",
       "address                 0\n",
       "district                0\n",
       "hours                 536\n",
       "rating                  0\n",
       "chain                   0\n",
       "seats                3611\n",
       "price                5091\n",
       "avg_bill             4590\n",
       "middle_avg_bill      5257\n",
       "middle_coffee_cup    7871\n",
       "dtype: int64"
      ]
     },
     "execution_count": 11,
     "metadata": {},
     "output_type": "execute_result"
    }
   ],
   "source": [
    "# Считаем количество пропусков\n",
    "df.isna().sum()"
   ]
  },
  {
   "cell_type": "code",
   "execution_count": 12,
   "id": "3fcb2950-c87c-47ff-8476-33d7661e5127",
   "metadata": {},
   "outputs": [
    {
     "data": {
      "text/plain": [
       "id                   0.000000\n",
       "name                 0.000000\n",
       "category             0.000000\n",
       "address              0.000000\n",
       "district             0.000000\n",
       "hours                0.063764\n",
       "rating               0.000000\n",
       "chain                0.000000\n",
       "seats                0.429574\n",
       "price                0.605639\n",
       "avg_bill             0.546039\n",
       "middle_avg_bill      0.625387\n",
       "middle_coffee_cup    0.936355\n",
       "dtype: float64"
      ]
     },
     "execution_count": 12,
     "metadata": {},
     "output_type": "execute_result"
    }
   ],
   "source": [
    "# Вычисляем долю пропусков\n",
    "df.isna().sum() / len(df)"
   ]
  },
  {
   "cell_type": "markdown",
   "id": "916b58e9-c920-4072-9e0c-1cf2ca69f2d0",
   "metadata": {},
   "source": [
    "Возможные причины пропусков в полях с ними:\n",
    "\n",
    "Поле `hours`, содержит 536 или 6% пропусков:\n",
    "1. Заведение работает круглосуточно, поэтому не передали данные;\n",
    "2. Заведение было закрыто/переехало и удалило данные о времени работы;\n",
    "3. Произошёл технический сбой и время удалилось;\n",
    "4. Информации нигде нет, а владелец её не добавлял.\n",
    "\n",
    "Решение:\n",
    "\n",
    "Сделать заглушку \"Неизвестно\", т.к. у всех заведений время и дни работы могут быть совершенно разными."
   ]
  },
  {
   "cell_type": "code",
   "execution_count": 13,
   "id": "3e6589be-527f-4ce5-8ab0-3d6402e7c7f4",
   "metadata": {},
   "outputs": [],
   "source": [
    "df['hours'] = df['hours'].fillna('Неизвестно')"
   ]
  },
  {
   "cell_type": "markdown",
   "id": "0b717c7c-3085-4666-b910-dc9e0a93cbfc",
   "metadata": {},
   "source": [
    "Поле `seats` содержит 3611 или 43% пропусков:\n",
    "1. Заведение не имеет посадочных мест;\n",
    "2. Количество посадочных мест постоянно меняется и из-за этого нет смысла заполнять это поле;\n",
    "3. Произошёл технический сбой;\n",
    "4. Информации нигде нет, а владелец её не добавлял.\n",
    "\n",
    "Решение:\n",
    "\n",
    "Указать среднее количество посадочных мест по полю `category` (позже)"
   ]
  },
  {
   "cell_type": "markdown",
   "id": "cdf40b23-8e26-4a61-a46a-030fee7d71f3",
   "metadata": {},
   "source": [
    "Поле `price` содержит 5091 или 61%:\n",
    "1. Заведение не указалу категорию своих цен;\n",
    "2. Цены менялись, а новую категорию не написали;\n",
    "3. Произошёл технический сбой;\n",
    "4. Информации нигде нет, а владелец её не добавлял.\n",
    "\n",
    "Решение:\n",
    "\n",
    "1. Использовать значения из полей `middle_avg_bill` и `middle_coffee_cup`, чтоб узнать категорию цен, для этого мы должны:\n",
    "    1.1. Заполнить все поля `middle_avg_bill`, если поле `avg_bill` заполнено\n",
    "   \n",
    "    1.2. Объединить два столбца в один `all_middle_price`, ведь некоторые значения из первого есть во втором;\n",
    "   \n",
    "    1.3. Заменить NaN на значения, которые больше всего подходят отталкиваясь от полей `category`, ``\n",
    "   "
   ]
  },
  {
   "cell_type": "code",
   "execution_count": 14,
   "id": "15079a9b-771d-4f36-b3bd-f10700154510",
   "metadata": {},
   "outputs": [],
   "source": [
    "# Объединяем 2 столбца в 1 новый\n",
    "df['all_middle_price'] = df['middle_avg_bill'].fillna(df['middle_coffee_cup'])\n"
   ]
  },
  {
   "cell_type": "code",
   "execution_count": 15,
   "id": "23dea07a-6514-42d0-af63-89ecc62bfb53",
   "metadata": {},
   "outputs": [
    {
     "name": "stdout",
     "output_type": "stream",
     "text": [
      "<class 'pandas.core.frame.DataFrame'>\n",
      "Int64Index: 8406 entries, 0 to 8405\n",
      "Data columns (total 14 columns):\n",
      " #   Column             Non-Null Count  Dtype  \n",
      "---  ------             --------------  -----  \n",
      " 0   id                 8406 non-null   object \n",
      " 1   name               8406 non-null   object \n",
      " 2   category           8406 non-null   object \n",
      " 3   address            8406 non-null   object \n",
      " 4   district           8406 non-null   object \n",
      " 5   hours              8406 non-null   object \n",
      " 6   rating             8406 non-null   float32\n",
      " 7   chain              8406 non-null   int8   \n",
      " 8   seats              4795 non-null   float32\n",
      " 9   price              3315 non-null   object \n",
      " 10  avg_bill           3816 non-null   object \n",
      " 11  middle_avg_bill    3149 non-null   float32\n",
      " 12  middle_coffee_cup  535 non-null    float32\n",
      " 13  all_middle_price   3684 non-null   float32\n",
      "dtypes: float32(5), int8(1), object(8)\n",
      "memory usage: 763.4+ KB\n"
     ]
    }
   ],
   "source": [
    "# Заменяем NaN значения на среднее, если оно не указано, с помощью apply\n",
    "def median_dig(text):\n",
    "    if isinstance(text, str):\n",
    "        cleaned_text = ''\n",
    "        for char in text:\n",
    "            if char.isdigit() or char == '-':\n",
    "                cleaned_text += char\n",
    "        numbers = [int(num) for num in cleaned_text.split('-')]\n",
    "        return float(sum(numbers) / len(numbers))\n",
    "    return None\n",
    "# df['all_middle_price'] = df['avg_bill'].apply(median_dig)\n",
    "df.info()"
   ]
  },
  {
   "cell_type": "markdown",
   "id": "a2bfcebd-e424-4d9e-b46d-ee78332cac75",
   "metadata": {},
   "source": [
    "Теперь количество `avg-bill` и `all_middle_price` совпадают и мы можем дозаполнить пропуски в price, отталкиваясь от полей `category` и `all_middle_price`\n"
   ]
  },
  {
   "cell_type": "markdown",
   "id": "8fac32f1-7426-4c8a-9f42-61bb9c37d8f9",
   "metadata": {},
   "source": [
    "Чтобы заменить значения в price на верные, нам нужно узнать, какие вообще бывает категории:"
   ]
  },
  {
   "cell_type": "code",
   "execution_count": 16,
   "id": "43cc6b02-be1e-4540-a3b5-520c01a93ff1",
   "metadata": {},
   "outputs": [
    {
     "data": {
      "text/plain": [
       "array([nan, 'выше среднего', 'средние', 'высокие', 'низкие'], dtype=object)"
      ]
     },
     "execution_count": 16,
     "metadata": {},
     "output_type": "execute_result"
    }
   ],
   "source": [
    "df['price'].unique()"
   ]
  },
  {
   "cell_type": "markdown",
   "id": "dcb04306-32b2-4765-befc-ec9194f20a1e",
   "metadata": {},
   "source": [
    "Все значения корректны и мы можем с ними поработать. Для того, чтобы верно всё заменить, нам нужно понять, какие диапазоны цен у каждой категории"
   ]
  },
  {
   "cell_type": "markdown",
   "id": "64ebe73c-e3e3-4090-a36b-137dd36f6d0d",
   "metadata": {},
   "source": [
    "## 2.3 Проверка на дубликаты\n",
    "\n",
    "Начнём с проверки на дубликаты с помощью duplicated."
   ]
  },
  {
   "cell_type": "code",
   "execution_count": 17,
   "id": "64d147b2-a7f3-48c1-b569-2e1287148a42",
   "metadata": {},
   "outputs": [
    {
     "data": {
      "text/plain": [
       "0"
      ]
     },
     "execution_count": 17,
     "metadata": {},
     "output_type": "execute_result"
    }
   ],
   "source": [
    "df.duplicated().sum()"
   ]
  },
  {
   "cell_type": "code",
   "execution_count": 18,
   "id": "883d2837-9d2a-4300-897c-5789ab77946f",
   "metadata": {},
   "outputs": [
    {
     "data": {
      "text/plain": [
       "0"
      ]
     },
     "execution_count": 18,
     "metadata": {},
     "output_type": "execute_result"
    }
   ],
   "source": [
    "df.duplicated(subset='id').sum()"
   ]
  },
  {
   "cell_type": "markdown",
   "id": "a459766b-0760-4a40-bcbb-81299e59335a",
   "metadata": {},
   "source": [
    "Мы получили, что наш датафрейм содержит 0 дубликатов во всём датафрейме, и 0 дубликатов в поле id, что говорит, о корректности данных."
   ]
  },
  {
   "cell_type": "markdown",
   "id": "6a78ad97-880f-41f9-ae67-44755043bd24",
   "metadata": {},
   "source": [
    "Проверяем категореальные поля на уникальные значения"
   ]
  },
  {
   "cell_type": "code",
   "execution_count": 19,
   "id": "dd54b719-8f4a-4276-95b1-301b1eac8d2f",
   "metadata": {},
   "outputs": [
    {
     "name": "stdout",
     "output_type": "stream",
     "text": [
      "<class 'pandas.core.frame.DataFrame'>\n",
      "Int64Index: 8406 entries, 0 to 8405\n",
      "Data columns (total 14 columns):\n",
      " #   Column             Non-Null Count  Dtype  \n",
      "---  ------             --------------  -----  \n",
      " 0   id                 8406 non-null   object \n",
      " 1   name               8406 non-null   object \n",
      " 2   category           8406 non-null   object \n",
      " 3   address            8406 non-null   object \n",
      " 4   district           8406 non-null   object \n",
      " 5   hours              8406 non-null   object \n",
      " 6   rating             8406 non-null   float32\n",
      " 7   chain              8406 non-null   int8   \n",
      " 8   seats              4795 non-null   float32\n",
      " 9   price              3315 non-null   object \n",
      " 10  avg_bill           3816 non-null   object \n",
      " 11  middle_avg_bill    3149 non-null   float32\n",
      " 12  middle_coffee_cup  535 non-null    float32\n",
      " 13  all_middle_price   3684 non-null   float32\n",
      "dtypes: float32(5), int8(1), object(8)\n",
      "memory usage: 763.4+ KB\n"
     ]
    }
   ],
   "source": [
    "df.info()"
   ]
  },
  {
   "cell_type": "code",
   "execution_count": 20,
   "id": "eaf6c8fe-ffef-43b7-8c3d-169a6be23d52",
   "metadata": {},
   "outputs": [
    {
     "name": "stdout",
     "output_type": "stream",
     "text": [
      "В поле category содержатся поля: ['кафе' 'ресторан' 'кофейня' 'пиццерия' 'бар,паб' 'быстрое питание'\n",
      " 'булочная' 'столовая']\n",
      "\n",
      "В поле district содержатся поля: ['Северный административный округ'\n",
      " 'Северо-Восточный административный округ'\n",
      " 'Северо-Западный административный округ'\n",
      " 'Западный административный округ' 'Центральный административный округ'\n",
      " 'Восточный административный округ' 'Юго-Восточный административный округ'\n",
      " 'Южный административный округ' 'Юго-Западный административный округ']\n",
      "\n",
      "В поле hours содержатся поля: ['ежедневно, 10:00–22:00'\n",
      " 'пн-чт 11:00–02:00; пт,сб 11:00–05:00; вс 11:00–02:00'\n",
      " 'ежедневно, 09:00–22:00' ... 'пн-пт 08:30–21:30; сб,вс 09:00–21:30'\n",
      " 'пн-чт 13:00–22:00; пт,сб 13:00–22:30; вс 13:00–22:00'\n",
      " 'пн-сб 10:30–21:30']\n",
      "\n",
      "В поле price содержатся поля: [nan 'выше среднего' 'средние' 'высокие' 'низкие']\n",
      "\n",
      "В поле chain содержатся поля: [0 1]\n",
      "\n"
     ]
    }
   ],
   "source": [
    "for i in ['category', 'district', 'hours', 'price', 'chain']:\n",
    "    print(f'В поле {i} содержатся поля: {df[i].unique()}')\n",
    "    print()"
   ]
  },
  {
   "cell_type": "markdown",
   "id": "7e7044ec-2ecd-4866-9711-c733e5c1fbeb",
   "metadata": {},
   "source": [
    "Мы можем удалить в поле `district` слова \"администартивный округ\", т.к. это поле изначальное подразумевает административный округ"
   ]
  },
  {
   "cell_type": "code",
   "execution_count": 21,
   "id": "f84a4006-800d-4936-a830-6870fc66a01e",
   "metadata": {},
   "outputs": [
    {
     "name": "stdout",
     "output_type": "stream",
     "text": [
      "['Северный' 'Северо-Восточный' 'Северо-Западный' 'Западный' 'Центральный'\n",
      " 'Восточный' 'Юго-Восточный' 'Южный' 'Юго-Западный']\n"
     ]
    }
   ],
   "source": [
    "df['district'] = df['district'].str.replace('административный округ', '').str.strip()\n",
    "print(df['district'].unique())"
   ]
  },
  {
   "cell_type": "markdown",
   "id": "ba12a5a1-ffce-4029-bb04-195f9181c6bb",
   "metadata": {},
   "source": [
    "Теперь всё отлично. Все значения по своему уникальны, все значения находятся в одном стиле по своему полю."
   ]
  },
  {
   "cell_type": "markdown",
   "id": "8f57fb5e-f781-4cdf-ae46-528b41e75ba7",
   "metadata": {},
   "source": [
    "Также хотел проверим поле rating, только по диапазону"
   ]
  },
  {
   "cell_type": "code",
   "execution_count": 22,
   "id": "ec1d0fa0-fb4c-4828-96fe-e41005aef791",
   "metadata": {},
   "outputs": [
    {
     "name": "stdout",
     "output_type": "stream",
     "text": [
      "Максимальное значение в рейтинге: 5.0\n",
      "Минимальное значение в рейтинге: 1.0\n"
     ]
    }
   ],
   "source": [
    "print(f\"Максимальное значение в рейтинге: {df['rating'].max()}\")\n",
    "print(f\"Минимальное значение в рейтинге: {df['rating'].min()}\")"
   ]
  },
  {
   "cell_type": "markdown",
   "id": "cd37886a-1f7e-41fc-bc0e-0973a6f82121",
   "metadata": {},
   "source": [
    "Все данные находятся в пределах диапазона, что говорит о их корректности\n"
   ]
  },
  {
   "cell_type": "markdown",
   "id": "a298f5dc-d0bc-4ac5-ac6e-ddd5ef3844bd",
   "metadata": {},
   "source": [
    "## 2.4 Добавление нового поля\n",
    "\n",
    "Нам нужно добавить поле is_24_7 со значение True или False, в те магазины, которые работают ежденевно и круглосуточно.\n"
   ]
  },
  {
   "cell_type": "code",
   "execution_count": 23,
   "id": "33dad3bd-cd2b-4698-b0d4-874fa927c51a",
   "metadata": {},
   "outputs": [
    {
     "name": "stdout",
     "output_type": "stream",
     "text": [
      "730\n"
     ]
    }
   ],
   "source": [
    "def open_24_7(shedule):\n",
    "    if shedule == 'ежедневно, круглосуточно':\n",
    "        return 1\n",
    "    else:\n",
    "        return 0\n",
    "df['is_24_7'] = df['hours'].apply(open_24_7)\n",
    "print(df['is_24_7'].sum())"
   ]
  },
  {
   "cell_type": "markdown",
   "id": "9c207c55-65f0-4e72-a0c5-164ee1137b41",
   "metadata": {},
   "source": [
    "730 значений в поле `is_24_7`, значит что именно 730 заведений работают круглосуточно и без выходных.\n",
    "Также сразу оптимизируем данные в поле"
   ]
  },
  {
   "cell_type": "code",
   "execution_count": 24,
   "id": "16c1d491-660b-49a3-adde-d4284d55dac0",
   "metadata": {},
   "outputs": [
    {
     "name": "stdout",
     "output_type": "stream",
     "text": [
      "<class 'pandas.core.frame.DataFrame'>\n",
      "Int64Index: 8406 entries, 0 to 8405\n",
      "Data columns (total 15 columns):\n",
      " #   Column             Non-Null Count  Dtype  \n",
      "---  ------             --------------  -----  \n",
      " 0   id                 8406 non-null   object \n",
      " 1   name               8406 non-null   object \n",
      " 2   category           8406 non-null   object \n",
      " 3   address            8406 non-null   object \n",
      " 4   district           8406 non-null   object \n",
      " 5   hours              8406 non-null   object \n",
      " 6   rating             8406 non-null   float32\n",
      " 7   chain              8406 non-null   int8   \n",
      " 8   seats              4795 non-null   float32\n",
      " 9   price              3315 non-null   object \n",
      " 10  avg_bill           3816 non-null   object \n",
      " 11  middle_avg_bill    3149 non-null   float32\n",
      " 12  middle_coffee_cup  535 non-null    float32\n",
      " 13  all_middle_price   3684 non-null   float32\n",
      " 14  is_24_7            8406 non-null   int8   \n",
      "dtypes: float32(5), int8(2), object(8)\n",
      "memory usage: 771.6+ KB\n"
     ]
    }
   ],
   "source": [
    "df['is_24_7'] = pd.to_numeric(df['is_24_7'], downcast='integer')\n",
    "df.info()"
   ]
  },
  {
   "cell_type": "markdown",
   "id": "ff6c7226-1754-433b-a2f5-cbeeb09f7278",
   "metadata": {},
   "source": [
    "### Промежуточный вывод после предобработки данных\n",
    "\n",
    "Была проделана следующая работа:\n",
    "1. Было добавлено новое поле с информацией о том, работает ли заведение круглосуточно и ежедневно или нет;\n",
    "2. Оптимизированы все типы данных для меньшего затрата памяти;\n",
    "3. Быда проведена проверка по корректности данных в столбцах."
   ]
  },
  {
   "cell_type": "markdown",
   "id": "747b2f4a-8686-4e45-b2f0-744c0255c919",
   "metadata": {},
   "source": [
    "# 3. Исследовательский анализ данных"
   ]
  },
  {
   "cell_type": "markdown",
   "id": "19ca9925-b7be-41e6-a8bf-154eaf798004",
   "metadata": {},
   "source": [
    "## 3.1. Количество заведение\n",
    "\n",
    "Для начала изучим, сколько всего в каждой из категории общественного питания находится заведений"
   ]
  },
  {
   "cell_type": "code",
   "execution_count": 25,
   "id": "f7c56b25-efe0-4128-a624-4fca961a0de9",
   "metadata": {},
   "outputs": [
    {
     "data": {
      "text/plain": [
       "category\n",
       "кафе               2378\n",
       "ресторан           2043\n",
       "кофейня            1413\n",
       "бар,паб             765\n",
       "пиццерия            633\n",
       "быстрое питание     603\n",
       "столовая            315\n",
       "булочная            256\n",
       "Name: category, dtype: int64"
      ]
     },
     "execution_count": 25,
     "metadata": {},
     "output_type": "execute_result"
    }
   ],
   "source": [
    "df_group_category = (df.groupby('category')['category']\n",
    "                     .count()\n",
    "                     .sort_values(ascending=False))\n",
    "df_group_category"
   ]
  },
  {
   "cell_type": "markdown",
   "id": "c2eb817c-c0d5-4ad8-b226-41f5971ff35d",
   "metadata": {},
   "source": [
    "С помощью groupby мы получаем Serial с информацией о том, сколько всего у нас точек по каждой категории. Отсортируем наши данные по убыванию для удобства.\n",
    "\n",
    "Теперь мы можем приступить к визуализации"
   ]
  },
  {
   "cell_type": "code",
   "execution_count": 26,
   "id": "d0387ee5-691d-4d08-bd01-4c272af2fc33",
   "metadata": {},
   "outputs": [
    {
     "data": {
      "image/png": "[encoded data removed]",
      "text/plain": [
       "<Figure size 720x432 with 1 Axes>"
      ]
     },
     "metadata": {
      "needs_background": "light"
     },
     "output_type": "display_data"
    }
   ],
   "source": [
    "plt.figure(figsize=(10, 6))\n",
    "df_group_category.plot.bar(df_group_category,\n",
    "                           title='Количество заведений в каждой категории',\n",
    "                           ylabel='Количество точек',\n",
    "                           xlabel='Название категории',\n",
    "                           rot=30)\n",
    "plt.grid(axis='y')\n",
    "plt.show()"
   ]
  },
  {
   "cell_type": "code",
   "execution_count": 27,
   "id": "a0221d6c-5b38-4280-92ef-5e2783999d79",
   "metadata": {},
   "outputs": [
    {
     "data": {
      "text/plain": [
       "category\n",
       "кафе               28.29\n",
       "ресторан           24.30\n",
       "кофейня            16.81\n",
       "бар,паб             9.10\n",
       "пиццерия            7.53\n",
       "быстрое питание     7.17\n",
       "столовая            3.75\n",
       "булочная            3.05\n",
       "Name: category, dtype: float64"
      ]
     },
     "execution_count": 27,
     "metadata": {},
     "output_type": "execute_result"
    }
   ],
   "source": [
    "df_group_category = round((df.groupby('category')['category']\n",
    "                     .count()\n",
    "                     .sort_values(ascending=False) / len(df) * 100), 2)\n",
    "df_group_category"
   ]
  },
  {
   "cell_type": "code",
   "execution_count": 28,
   "id": "2cfa7600-8d09-4dab-9242-2ff9adc0d5d8",
   "metadata": {},
   "outputs": [
    {
     "data": {
      "image/png": "[encoded data removed]",
      "text/plain": [
       "<Figure size 864x432 with 1 Axes>"
      ]
     },
     "metadata": {
      "needs_background": "light"
     },
     "output_type": "display_data"
    }
   ],
   "source": [
    "df_group_category = (df.groupby('category')['category']\n",
    "                     .count()\n",
    "                     .sort_values(ascending=False) / len(df) * 100)\n",
    "\n",
    "plt.figure(figsize=(12, 6))\n",
    "df_group_category.plot.bar(title='Процент заведений в каждой категории',\n",
    "                           ylabel='Процент',\n",
    "                           xlabel='Название категории',\n",
    "                           rot=30)\n",
    "plt.grid(axis='y')\n",
    "plt.show()"
   ]
  },
  {
   "cell_type": "markdown",
   "id": "9984ad2c-992c-4912-9f83-d4000534ce92",
   "metadata": {},
   "source": [
    "После чего мы имеем:\n",
    "1. Самые популярные категории это кафе и рестораны. Каждая из этих категорий имеет более 2000 точек, но кафе составляют более 25% процентов, когда как рестораны чуть менее;\n",
    "2. Самые не популярные столовые и булочные. Каждая из этих категорий имеет менее 500 точек и составляют менее 5%."
   ]
  },
  {
   "cell_type": "markdown",
   "id": "cebf8aa0-ff0a-49c9-890c-4620a149e7e3",
   "metadata": {},
   "source": [
    "## 3.2. Административные районы Москвы"
   ]
  },
  {
   "cell_type": "code",
   "execution_count": 29,
   "id": "947cbe3d-5db1-45d4-a1ed-2ff81fe98e22",
   "metadata": {},
   "outputs": [
    {
     "data": {
      "text/plain": [
       "district\n",
       "Северо-Западный      409\n",
       "Юго-Западный         709\n",
       "Юго-Восточный        714\n",
       "Восточный            798\n",
       "Западный             851\n",
       "Северо-Восточный     891\n",
       "Южный                892\n",
       "Северный             900\n",
       "Центральный         2242\n",
       "Name: district, dtype: int64"
      ]
     },
     "execution_count": 29,
     "metadata": {},
     "output_type": "execute_result"
    }
   ],
   "source": [
    "df_group_category = (df.groupby('district')['district']\n",
    "                     .count()\n",
    "                     .sort_values(ascending=True))\n",
    "df_group_category"
   ]
  },
  {
   "cell_type": "code",
   "execution_count": 30,
   "id": "16656940-333d-4f59-a2b9-fab0e8e0a5ae",
   "metadata": {},
   "outputs": [
    {
     "data": {
      "image/png": "[encoded data removed]",
      "text/plain": [
       "<Figure size 864x432 with 1 Axes>"
      ]
     },
     "metadata": {
      "needs_background": "light"
     },
     "output_type": "display_data"
    }
   ],
   "source": [
    "plt.figure(figsize=(12, 6))\n",
    "df_group_category.plot.barh(df_group_category,\n",
    "                           title='Количество точек в каждом из округов',\n",
    "                           ylabel='Название округа',\n",
    "                           xlabel='Количество точек')\n",
    "plt.grid(axis='x')\n",
    "plt.show()"
   ]
  },
  {
   "cell_type": "markdown",
   "id": "d6a63144-491f-4262-bda9-e83371e3c8e8",
   "metadata": {},
   "source": [
    "Также изучим доли заведений"
   ]
  },
  {
   "cell_type": "code",
   "execution_count": 31,
   "id": "a69efe5d-1fc6-46f9-8717-193660862c85",
   "metadata": {},
   "outputs": [
    {
     "data": {
      "text/plain": [
       "district\n",
       "Северо-Западный      4.87\n",
       "Юго-Западный         8.43\n",
       "Юго-Восточный        8.49\n",
       "Восточный            9.49\n",
       "Западный            10.12\n",
       "Северо-Восточный    10.60\n",
       "Южный               10.61\n",
       "Северный            10.71\n",
       "Центральный         26.67\n",
       "Name: district, dtype: float64"
      ]
     },
     "execution_count": 31,
     "metadata": {},
     "output_type": "execute_result"
    }
   ],
   "source": [
    "df_group_category = round((df.groupby('district')['district']\n",
    "                     .count()\n",
    "                     .sort_values(ascending=True) / len(df)) * 100, 2 )\n",
    "df_group_category"
   ]
  },
  {
   "cell_type": "code",
   "execution_count": 32,
   "id": "0bde76b7-a2bf-4227-b999-40d867d4d52b",
   "metadata": {},
   "outputs": [
    {
     "data": {
      "image/png": "[encoded data removed]",
      "text/plain": [
       "<Figure size 864x432 with 1 Axes>"
      ]
     },
     "metadata": {
      "needs_background": "light"
     },
     "output_type": "display_data"
    }
   ],
   "source": [
    "plt.figure(figsize=(12, 6))\n",
    "df_group_category.plot.barh(df_group_category,\n",
    "                           title='Процент точек в каждом из округов',\n",
    "                           ylabel='Название',\n",
    "                           xlabel='Процент')\n",
    "plt.grid(axis='x')\n",
    "plt.show()"
   ]
  },
  {
   "cell_type": "markdown",
   "id": "41363b4b-650a-4d8c-bc05-fdff47d34a56",
   "metadata": {},
   "source": [
    "Из нашей визуализации мы имеем, что:\n",
    "1. Самый популярный округ - Центральный;\n",
    "2. Самый не популярный - Северо-Западный"
   ]
  },
  {
   "cell_type": "markdown",
   "id": "725eb963-1f2f-4cf8-98d0-9cc3856ac052",
   "metadata": {},
   "source": [
    "Изучим самый популярный:"
   ]
  },
  {
   "cell_type": "code",
   "execution_count": 33,
   "id": "c51e9037-88d2-4b09-a362-1ab10c4c90d3",
   "metadata": {},
   "outputs": [
    {
     "data": {
      "text/plain": [
       "category\n",
       "булочная            50\n",
       "столовая            66\n",
       "быстрое питание     87\n",
       "пиццерия           113\n",
       "бар,паб            364\n",
       "кофейня            428\n",
       "кафе               464\n",
       "ресторан           670\n",
       "Name: category, dtype: int64"
      ]
     },
     "execution_count": 33,
     "metadata": {},
     "output_type": "execute_result"
    }
   ],
   "source": [
    "df_popular = df.loc[df['district'] == 'Центральный']\n",
    "\n",
    "# Группировка данных по категориям\n",
    "df_popular_group = (df_popular.groupby('category')['category']\n",
    "                    .count()\n",
    "                    .sort_values(ascending=True))\n",
    "\n",
    "# Построение графика\n",
    "df_popular_group"
   ]
  },
  {
   "cell_type": "code",
   "execution_count": 34,
   "id": "2a2219d1-58b7-4956-bee7-abe8070c35d7",
   "metadata": {},
   "outputs": [
    {
     "data": {
      "text/plain": [
       "category\n",
       "булочная            2.23\n",
       "столовая            2.94\n",
       "быстрое питание     3.88\n",
       "пиццерия            5.04\n",
       "бар,паб            16.24\n",
       "кофейня            19.09\n",
       "кафе               20.70\n",
       "ресторан           29.88\n",
       "Name: category, dtype: float64"
      ]
     },
     "execution_count": 34,
     "metadata": {},
     "output_type": "execute_result"
    }
   ],
   "source": [
    "df_popular_group = round(((df_popular.groupby('category')['category']\n",
    "                    .count()\n",
    "                    .sort_values(ascending=True)) / len(df_popular)) * 100 , 2)\n",
    "\n",
    "# Построение графика\n",
    "df_popular_group"
   ]
  },
  {
   "cell_type": "code",
   "execution_count": 35,
   "id": "1d6587f3-6323-4d2b-a2a4-7ef0653ebc33",
   "metadata": {},
   "outputs": [
    {
     "data": {
      "image/png": "[encoded data removed]",
      "text/plain": [
       "<Figure size 864x432 with 1 Axes>"
      ]
     },
     "metadata": {
      "needs_background": "light"
     },
     "output_type": "display_data"
    }
   ],
   "source": [
    "plt.figure(figsize=(12, 6))\n",
    "df_popular_group.plot(kind='barh', \n",
    "                      title='Количество заведений по категориям в Центральном округе',\n",
    "                      ylabel='Количество',\n",
    "                      xlabel='Категории')\n",
    "plt.grid(axis='x')\n",
    "plt.show()"
   ]
  },
  {
   "cell_type": "markdown",
   "id": "6ed8b5a3-6222-4438-a438-11f6b85084b1",
   "metadata": {},
   "source": [
    "Мы создали новый датафрейм, который хранит в себе данные по самому популярному округу Москвы. \n",
    "\n",
    "Из него получили, что в нём самые популярные категории это Рестораны (29 %). Кафе (20 %), кофейни (19%) и бар/паб (16 %) находятся примерно в одном диапозоне."
   ]
  },
  {
   "cell_type": "markdown",
   "id": "6410f29c-1b94-4b76-a86b-c8031b7d835f",
   "metadata": {},
   "source": [
    "## 3.3. Соотношение сетевых и несетевых заведений"
   ]
  },
  {
   "cell_type": "markdown",
   "id": "85aab59a-946e-4061-bab4-50dc2c562095",
   "metadata": {},
   "source": [
    "Начнём с уточнение информации о том, сколько вообще ресторанов принадлежит сетям, а сколько нет:"
   ]
  },
  {
   "cell_type": "code",
   "execution_count": 36,
   "id": "c1bda362-a8ae-4936-bb4e-28bf9d29d6df",
   "metadata": {},
   "outputs": [
    {
     "data": {
      "image/png": "[encoded data removed]",
      "text/plain": [
       "<Figure size 432x288 with 1 Axes>"
      ]
     },
     "metadata": {
      "needs_background": "light"
     },
     "output_type": "display_data"
    }
   ],
   "source": [
    "df['chain'].value_counts(normalize=True).plot(\n",
    "                kind='bar',\n",
    "                rot=0,\n",
    "                title='Соотношение сетевых и несетевых заведений',\n",
    "                xlabel= 'Принадлежность сети (0 - не принадлежит, 1 - принадлежит)',\n",
    "                ylabel='Доля заведений')\n",
    "plt.grid(axis='y')\n",
    "plt.show()"
   ]
  },
  {
   "cell_type": "markdown",
   "id": "ef235aa2-6b55-4acc-82c2-efbf78aecbb1",
   "metadata": {},
   "source": [
    "Здесь мы видим, что данные распределены примерно 60/40 (не принадлежит/принадлежит). Теперь узнаем количество сетевых и несетевых заведений в разрезе категорий, для этого можно сделать сводную таблицу:"
   ]
  },
  {
   "cell_type": "code",
   "execution_count": 37,
   "id": "c71f1fb4-bb05-463a-a6c6-1d4bd2d0cdb8",
   "metadata": {},
   "outputs": [
    {
     "data": {
      "text/html": [
       "<div>\n",
       "<style scoped>\n",
       "    .dataframe tbody tr th:only-of-type {\n",
       "        vertical-align: middle;\n",
       "    }\n",
       "\n",
       "    .dataframe tbody tr th {\n",
       "        vertical-align: top;\n",
       "    }\n",
       "\n",
       "    .dataframe thead th {\n",
       "        text-align: right;\n",
       "    }\n",
       "</style>\n",
       "<table border=\"1\" class=\"dataframe\">\n",
       "  <thead>\n",
       "    <tr style=\"text-align: right;\">\n",
       "      <th></th>\n",
       "      <th></th>\n",
       "      <th>count</th>\n",
       "      <th>perc</th>\n",
       "    </tr>\n",
       "    <tr>\n",
       "      <th>category</th>\n",
       "      <th>chain</th>\n",
       "      <th></th>\n",
       "      <th></th>\n",
       "    </tr>\n",
       "  </thead>\n",
       "  <tbody>\n",
       "    <tr>\n",
       "      <th rowspan=\"2\" valign=\"top\">бар,паб</th>\n",
       "      <th>0</th>\n",
       "      <td>596</td>\n",
       "      <td>7.090174</td>\n",
       "    </tr>\n",
       "    <tr>\n",
       "      <th>1</th>\n",
       "      <td>169</td>\n",
       "      <td>2.010469</td>\n",
       "    </tr>\n",
       "    <tr>\n",
       "      <th rowspan=\"2\" valign=\"top\">булочная</th>\n",
       "      <th>0</th>\n",
       "      <td>99</td>\n",
       "      <td>1.177730</td>\n",
       "    </tr>\n",
       "    <tr>\n",
       "      <th>1</th>\n",
       "      <td>157</td>\n",
       "      <td>1.867714</td>\n",
       "    </tr>\n",
       "    <tr>\n",
       "      <th rowspan=\"2\" valign=\"top\">быстрое питание</th>\n",
       "      <th>0</th>\n",
       "      <td>371</td>\n",
       "      <td>4.413514</td>\n",
       "    </tr>\n",
       "    <tr>\n",
       "      <th>1</th>\n",
       "      <td>232</td>\n",
       "      <td>2.759933</td>\n",
       "    </tr>\n",
       "    <tr>\n",
       "      <th rowspan=\"2\" valign=\"top\">кафе</th>\n",
       "      <th>0</th>\n",
       "      <td>1599</td>\n",
       "      <td>19.022127</td>\n",
       "    </tr>\n",
       "    <tr>\n",
       "      <th>1</th>\n",
       "      <td>779</td>\n",
       "      <td>9.267190</td>\n",
       "    </tr>\n",
       "    <tr>\n",
       "      <th rowspan=\"2\" valign=\"top\">кофейня</th>\n",
       "      <th>0</th>\n",
       "      <td>693</td>\n",
       "      <td>8.244111</td>\n",
       "    </tr>\n",
       "    <tr>\n",
       "      <th>1</th>\n",
       "      <td>720</td>\n",
       "      <td>8.565310</td>\n",
       "    </tr>\n",
       "    <tr>\n",
       "      <th rowspan=\"2\" valign=\"top\">пиццерия</th>\n",
       "      <th>0</th>\n",
       "      <td>303</td>\n",
       "      <td>3.604568</td>\n",
       "    </tr>\n",
       "    <tr>\n",
       "      <th>1</th>\n",
       "      <td>330</td>\n",
       "      <td>3.925767</td>\n",
       "    </tr>\n",
       "    <tr>\n",
       "      <th rowspan=\"2\" valign=\"top\">ресторан</th>\n",
       "      <th>0</th>\n",
       "      <td>1313</td>\n",
       "      <td>15.619795</td>\n",
       "    </tr>\n",
       "    <tr>\n",
       "      <th>1</th>\n",
       "      <td>730</td>\n",
       "      <td>8.684273</td>\n",
       "    </tr>\n",
       "    <tr>\n",
       "      <th rowspan=\"2\" valign=\"top\">столовая</th>\n",
       "      <th>0</th>\n",
       "      <td>227</td>\n",
       "      <td>2.700452</td>\n",
       "    </tr>\n",
       "    <tr>\n",
       "      <th>1</th>\n",
       "      <td>88</td>\n",
       "      <td>1.046871</td>\n",
       "    </tr>\n",
       "  </tbody>\n",
       "</table>\n",
       "</div>"
      ],
      "text/plain": [
       "                       count       perc\n",
       "category        chain                  \n",
       "бар,паб         0        596   7.090174\n",
       "                1        169   2.010469\n",
       "булочная        0         99   1.177730\n",
       "                1        157   1.867714\n",
       "быстрое питание 0        371   4.413514\n",
       "                1        232   2.759933\n",
       "кафе            0       1599  19.022127\n",
       "                1        779   9.267190\n",
       "кофейня         0        693   8.244111\n",
       "                1        720   8.565310\n",
       "пиццерия        0        303   3.604568\n",
       "                1        330   3.925767\n",
       "ресторан        0       1313  15.619795\n",
       "                1        730   8.684273\n",
       "столовая        0        227   2.700452\n",
       "                1         88   1.046871"
      ]
     },
     "execution_count": 37,
     "metadata": {},
     "output_type": "execute_result"
    }
   ],
   "source": [
    "pivot_chain = df.pivot_table(index=['category', 'chain'], \n",
    "                             values='id', \n",
    "                             aggfunc=['count'])\n",
    "\n",
    "# Переименуем столбец для удобства\n",
    "pivot_chain.columns = ['count']\n",
    "\n",
    "# Добавляем столбец с процентом\n",
    "pivot_chain['perc'] = (pivot_chain['count'] / len(df)) * 100\n",
    "\n",
    "# Выводим сводную таблицу\n",
    "pivot_chain"
   ]
  },
  {
   "cell_type": "code",
   "execution_count": 38,
   "id": "ba95dae1-8df5-4eed-8e7a-c61b8d51e82f",
   "metadata": {},
   "outputs": [
    {
     "data": {
      "text/plain": [
       "<Figure size 864x432 with 0 Axes>"
      ]
     },
     "metadata": {},
     "output_type": "display_data"
    },
    {
     "data": {
      "image/png": "[encoded data removed]",
      "text/plain": [
       "<Figure size 432x288 with 1 Axes>"
      ]
     },
     "metadata": {
      "needs_background": "light"
     },
     "output_type": "display_data"
    }
   ],
   "source": [
    "df_group = df.groupby('category')['chain'].value_counts(normalize=True).unstack(fill_value=0) * 100\n",
    "plt.figure(figsize=(12, 6))\n",
    "df_group.plot(kind='barh',\n",
    "             title='Распределение сетевых и несетвых точек по категориям',\n",
    "             ylabel='Категория',\n",
    "             xlabel='Процент',\n",
    "             rot=0)\n",
    "plt.grid()\n",
    "plt.show()"
   ]
  },
  {
   "cell_type": "markdown",
   "id": "654f47b5-4635-41c1-9949-9b82ae9db69a",
   "metadata": {},
   "source": [
    "После построения сводной таблицы, мы можем сделать следующие выводы:\n",
    "1. По Москве больше всего несетевых заведений (более 60%)\n",
    "2. Чаще всего сетевыми заведениями становятся Булочные (61%)"
   ]
  },
  {
   "cell_type": "markdown",
   "id": "455bce3e-7d03-439d-bfc1-15190bcc19d9",
   "metadata": {},
   "source": [
    "## 3.4. Количество посадочных мест в заведениях."
   ]
  },
  {
   "cell_type": "markdown",
   "id": "375ddf69-60e5-4fa0-8e8c-341909bbb3d5",
   "metadata": {},
   "source": [
    "Для начала проверим данные на аномальные данные"
   ]
  },
  {
   "cell_type": "code",
   "execution_count": 39,
   "id": "ac2cf6ac-dcf5-4e9a-9bec-56d93b5fc753",
   "metadata": {},
   "outputs": [
    {
     "data": {
      "image/png": "[encoded data removed]",
      "text/plain": [
       "<Figure size 864x432 with 1 Axes>"
      ]
     },
     "metadata": {
      "needs_background": "light"
     },
     "output_type": "display_data"
    }
   ],
   "source": [
    "plt.figure(figsize=(12, 6))\n",
    "boxplot = df.boxplot(\n",
    "    column = 'seats',\n",
    "    vert=False\n",
    ")\n",
    "plt.grid(True)\n",
    "plt.show()"
   ]
  },
  {
   "cell_type": "markdown",
   "id": "fd0f9e27-d3e4-4118-a563-0b4e70842514",
   "metadata": {},
   "source": [
    "По первичному графику можно увидеть, что у нас есть много аномальных значений, проведём более детальную проверку с помощью метода describe."
   ]
  },
  {
   "cell_type": "code",
   "execution_count": 40,
   "id": "a17272f5-a0c6-4bb0-8876-48fb575326a2",
   "metadata": {
    "scrolled": true
   },
   "outputs": [
    {
     "data": {
      "text/html": [
       "<div>\n",
       "<style scoped>\n",
       "    .dataframe tbody tr th:only-of-type {\n",
       "        vertical-align: middle;\n",
       "    }\n",
       "\n",
       "    .dataframe tbody tr th {\n",
       "        vertical-align: top;\n",
       "    }\n",
       "\n",
       "    .dataframe thead th {\n",
       "        text-align: right;\n",
       "    }\n",
       "</style>\n",
       "<table border=\"1\" class=\"dataframe\">\n",
       "  <thead>\n",
       "    <tr style=\"text-align: right;\">\n",
       "      <th></th>\n",
       "      <th>count</th>\n",
       "      <th>mean</th>\n",
       "      <th>std</th>\n",
       "      <th>min</th>\n",
       "      <th>50%</th>\n",
       "      <th>60%</th>\n",
       "      <th>70%</th>\n",
       "      <th>80%</th>\n",
       "      <th>95%</th>\n",
       "      <th>99%</th>\n",
       "      <th>max</th>\n",
       "    </tr>\n",
       "    <tr>\n",
       "      <th>category</th>\n",
       "      <th></th>\n",
       "      <th></th>\n",
       "      <th></th>\n",
       "      <th></th>\n",
       "      <th></th>\n",
       "      <th></th>\n",
       "      <th></th>\n",
       "      <th></th>\n",
       "      <th></th>\n",
       "      <th></th>\n",
       "      <th></th>\n",
       "    </tr>\n",
       "  </thead>\n",
       "  <tbody>\n",
       "    <tr>\n",
       "      <th>бар,паб</th>\n",
       "      <td>468.0</td>\n",
       "      <td>124.532051</td>\n",
       "      <td>145.011566</td>\n",
       "      <td>0.0</td>\n",
       "      <td>82.5</td>\n",
       "      <td>96.000000</td>\n",
       "      <td>120.000000</td>\n",
       "      <td>174.600006</td>\n",
       "      <td>353.899994</td>\n",
       "      <td>660.000000</td>\n",
       "      <td>1288.0</td>\n",
       "    </tr>\n",
       "    <tr>\n",
       "      <th>булочная</th>\n",
       "      <td>148.0</td>\n",
       "      <td>89.385132</td>\n",
       "      <td>97.685844</td>\n",
       "      <td>0.0</td>\n",
       "      <td>50.0</td>\n",
       "      <td>84.199997</td>\n",
       "      <td>99.800003</td>\n",
       "      <td>150.000000</td>\n",
       "      <td>276.000000</td>\n",
       "      <td>403.739990</td>\n",
       "      <td>625.0</td>\n",
       "    </tr>\n",
       "    <tr>\n",
       "      <th>быстрое питание</th>\n",
       "      <td>349.0</td>\n",
       "      <td>98.891121</td>\n",
       "      <td>106.611740</td>\n",
       "      <td>0.0</td>\n",
       "      <td>65.0</td>\n",
       "      <td>90.000000</td>\n",
       "      <td>120.000000</td>\n",
       "      <td>160.000000</td>\n",
       "      <td>300.000000</td>\n",
       "      <td>402.000000</td>\n",
       "      <td>1040.0</td>\n",
       "    </tr>\n",
       "    <tr>\n",
       "      <th>кафе</th>\n",
       "      <td>1218.0</td>\n",
       "      <td>97.512314</td>\n",
       "      <td>117.985085</td>\n",
       "      <td>0.0</td>\n",
       "      <td>60.0</td>\n",
       "      <td>80.000000</td>\n",
       "      <td>100.000000</td>\n",
       "      <td>144.600006</td>\n",
       "      <td>300.000000</td>\n",
       "      <td>597.450012</td>\n",
       "      <td>1288.0</td>\n",
       "    </tr>\n",
       "    <tr>\n",
       "      <th>кофейня</th>\n",
       "      <td>751.0</td>\n",
       "      <td>111.199730</td>\n",
       "      <td>127.837776</td>\n",
       "      <td>0.0</td>\n",
       "      <td>80.0</td>\n",
       "      <td>98.000000</td>\n",
       "      <td>120.000000</td>\n",
       "      <td>167.000000</td>\n",
       "      <td>320.000000</td>\n",
       "      <td>625.000000</td>\n",
       "      <td>1288.0</td>\n",
       "    </tr>\n",
       "    <tr>\n",
       "      <th>пиццерия</th>\n",
       "      <td>427.0</td>\n",
       "      <td>94.496490</td>\n",
       "      <td>112.282707</td>\n",
       "      <td>0.0</td>\n",
       "      <td>55.0</td>\n",
       "      <td>75.000000</td>\n",
       "      <td>98.199997</td>\n",
       "      <td>150.000000</td>\n",
       "      <td>276.000000</td>\n",
       "      <td>447.980011</td>\n",
       "      <td>1288.0</td>\n",
       "    </tr>\n",
       "    <tr>\n",
       "      <th>ресторан</th>\n",
       "      <td>1270.0</td>\n",
       "      <td>121.944092</td>\n",
       "      <td>123.757332</td>\n",
       "      <td>0.0</td>\n",
       "      <td>86.0</td>\n",
       "      <td>100.000000</td>\n",
       "      <td>132.000000</td>\n",
       "      <td>180.000000</td>\n",
       "      <td>323.299988</td>\n",
       "      <td>500.000000</td>\n",
       "      <td>1288.0</td>\n",
       "    </tr>\n",
       "    <tr>\n",
       "      <th>столовая</th>\n",
       "      <td>164.0</td>\n",
       "      <td>99.750000</td>\n",
       "      <td>122.951454</td>\n",
       "      <td>0.0</td>\n",
       "      <td>75.5</td>\n",
       "      <td>90.000000</td>\n",
       "      <td>100.000000</td>\n",
       "      <td>130.800003</td>\n",
       "      <td>295.200012</td>\n",
       "      <td>500.890015</td>\n",
       "      <td>1200.0</td>\n",
       "    </tr>\n",
       "  </tbody>\n",
       "</table>\n",
       "</div>"
      ],
      "text/plain": [
       "                  count        mean         std  min   50%         60%  \\\n",
       "category                                                                 \n",
       "бар,паб           468.0  124.532051  145.011566  0.0  82.5   96.000000   \n",
       "булочная          148.0   89.385132   97.685844  0.0  50.0   84.199997   \n",
       "быстрое питание   349.0   98.891121  106.611740  0.0  65.0   90.000000   \n",
       "кафе             1218.0   97.512314  117.985085  0.0  60.0   80.000000   \n",
       "кофейня           751.0  111.199730  127.837776  0.0  80.0   98.000000   \n",
       "пиццерия          427.0   94.496490  112.282707  0.0  55.0   75.000000   \n",
       "ресторан         1270.0  121.944092  123.757332  0.0  86.0  100.000000   \n",
       "столовая          164.0   99.750000  122.951454  0.0  75.5   90.000000   \n",
       "\n",
       "                        70%         80%         95%         99%     max  \n",
       "category                                                                 \n",
       "бар,паб          120.000000  174.600006  353.899994  660.000000  1288.0  \n",
       "булочная          99.800003  150.000000  276.000000  403.739990   625.0  \n",
       "быстрое питание  120.000000  160.000000  300.000000  402.000000  1040.0  \n",
       "кафе             100.000000  144.600006  300.000000  597.450012  1288.0  \n",
       "кофейня          120.000000  167.000000  320.000000  625.000000  1288.0  \n",
       "пиццерия          98.199997  150.000000  276.000000  447.980011  1288.0  \n",
       "ресторан         132.000000  180.000000  323.299988  500.000000  1288.0  \n",
       "столовая         100.000000  130.800003  295.200012  500.890015  1200.0  "
      ]
     },
     "execution_count": 40,
     "metadata": {},
     "output_type": "execute_result"
    }
   ],
   "source": [
    "category_describe = df.groupby('category')['seats'].describe(percentiles=[0.5, 0.6, 0.7, 0.8, 0.95, 0.99])\n",
    "category_describe"
   ]
  },
  {
   "cell_type": "code",
   "execution_count": 41,
   "id": "8af135ec-86c3-491e-b273-988e4204a981",
   "metadata": {},
   "outputs": [
    {
     "data": {
      "text/plain": [
       "category\n",
       "ресторан           86.0\n",
       "бар,паб            82.5\n",
       "кофейня            80.0\n",
       "столовая           75.5\n",
       "быстрое питание    65.0\n",
       "кафе               60.0\n",
       "пиццерия           55.0\n",
       "булочная           50.0\n",
       "Name: seats, dtype: float32"
      ]
     },
     "execution_count": 41,
     "metadata": {},
     "output_type": "execute_result"
    }
   ],
   "source": [
    "group_median_seats = df.groupby('category')['seats'].median().sort_values(ascending=False)\n",
    "group_median_seats"
   ]
  },
  {
   "cell_type": "code",
   "execution_count": 42,
   "id": "02b45cd8-955d-4b5d-9291-4c941af247cf",
   "metadata": {},
   "outputs": [
    {
     "data": {
      "image/png": "[encoded data removed]",
      "text/plain": [
       "<Figure size 864x432 with 1 Axes>"
      ]
     },
     "metadata": {
      "needs_background": "light"
     },
     "output_type": "display_data"
    }
   ],
   "source": [
    "plt.figure(figsize=(12, 6))\n",
    "group_median_seats.plot(kind='bar',\n",
    "                        title='Наиболее типичное количество посадочных мест для каждого заведения',\n",
    "                        rot=15)\n",
    "plt.grid(axis='y')\n",
    "plt.xlabel('Категория')\n",
    "plt.ylabel('Посадочные места')\n",
    "plt.show()"
   ]
  },
  {
   "cell_type": "markdown",
   "id": "9ff1e86f-dd5b-433e-b82d-aefef0af906d",
   "metadata": {},
   "source": [
    "### Вывод\n",
    " Т.к. у многих заведений максимальное количество 1288, можно предположить, что это техническая ошибка. 99% точек во всех категориях имеют до 400-600 посадочных мест.\n",
    "\n",
    "Можно заметить, что типичный ресторан имеет больше всего посадочных мест (86), когда как булочные и пиццерии наоборот менее всего (50 и 55).\n"
   ]
  },
  {
   "cell_type": "markdown",
   "id": "dc6c80c2-43f4-4191-b674-d4a2ce1cf90d",
   "metadata": {},
   "source": [
    "## 3.5. Исследование рейтинга по заведениям"
   ]
  },
  {
   "cell_type": "markdown",
   "id": "90668f7a-8ffe-4728-bb87-92f2ea4c7831",
   "metadata": {},
   "source": [
    "Начнём с проверки столбца `rating` с помощью функции describe"
   ]
  },
  {
   "cell_type": "code",
   "execution_count": 43,
   "id": "22529cce-fa24-4f45-9e72-6d30eb402aa2",
   "metadata": {},
   "outputs": [
    {
     "data": {
      "text/plain": [
       "count    8406.000000\n",
       "mean        4.229895\n",
       "std         0.470348\n",
       "min         1.000000\n",
       "25%         4.100000\n",
       "50%         4.300000\n",
       "75%         4.400000\n",
       "max         5.000000\n",
       "Name: rating, dtype: float64"
      ]
     },
     "execution_count": 43,
     "metadata": {},
     "output_type": "execute_result"
    }
   ],
   "source": [
    "df['rating'].describe()"
   ]
  },
  {
   "cell_type": "markdown",
   "id": "36e64a39-9ec4-4602-b03f-33ea9dce22e8",
   "metadata": {},
   "source": [
    "В целом все значения находятся в пределах нормы, можно с ними работать."
   ]
  },
  {
   "cell_type": "markdown",
   "id": "2d944e55-8333-4c7d-81cc-2d2bace53629",
   "metadata": {},
   "source": [
    "Рассчитаем средней оценки заведений"
   ]
  },
  {
   "cell_type": "code",
   "execution_count": 44,
   "id": "3f0324b1-45d8-49a4-b1e2-6b7b30a4ab38",
   "metadata": {},
   "outputs": [
    {
     "data": {
      "image/png": "[encoded data removed]",
      "text/plain": [
       "<Figure size 864x432 with 1 Axes>"
      ]
     },
     "metadata": {
      "needs_background": "light"
     },
     "output_type": "display_data"
    }
   ],
   "source": [
    "df_group_rating = df.groupby('category')['rating'].mean().sort_values(ascending=False)\n",
    "plt.figure(figsize=(12, 6))\n",
    "df_group_rating.plot(kind='bar',\n",
    "                     title='Средняя оценка по каждой категории',\n",
    "                     rot=0,\n",
    "                     ylabel='Оценка',\n",
    "                     xlabel='Категория')\n",
    "plt.grid(axis='y')\n",
    "plt.show()"
   ]
  },
  {
   "cell_type": "code",
   "execution_count": 45,
   "id": "818e8192-2d65-4cef-a8db-2955b1ca91fb",
   "metadata": {},
   "outputs": [
    {
     "data": {
      "text/plain": [
       "category\n",
       "бар,паб            4.387712\n",
       "пиццерия           4.301264\n",
       "ресторан           4.290357\n",
       "кофейня            4.277282\n",
       "булочная           4.268359\n",
       "столовая           4.211429\n",
       "кафе               4.123886\n",
       "быстрое питание    4.050249\n",
       "Name: rating, dtype: float32"
      ]
     },
     "execution_count": 45,
     "metadata": {},
     "output_type": "execute_result"
    }
   ],
   "source": [
    "df_group_rating"
   ]
  },
  {
   "cell_type": "markdown",
   "id": "ea4a3b45-26e8-474d-a796-5f12ce633942",
   "metadata": {},
   "source": [
    "Данные примерно равны. но Бары имеют наивысшие оценки (4.38), когда как быстрое питание наименьшие (4.05)"
   ]
  },
  {
   "cell_type": "markdown",
   "id": "cad5bacd-b0ea-43fd-ab5c-d01dea42c9df",
   "metadata": {},
   "source": [
    "## 3.6 Самая сильная корреляция рейтинга заведений"
   ]
  },
  {
   "cell_type": "markdown",
   "id": "5d7f0f39-a5c9-41c5-a09a-4f033f9e5394",
   "metadata": {},
   "source": [
    "Составим новый датасет со столбцами, которые требуются по заданию и посмотрим на корреляцию среди них."
   ]
  },
  {
   "cell_type": "code",
   "execution_count": 46,
   "id": "e9877e29-0c6a-4176-9e1e-80301a833a13",
   "metadata": {},
   "outputs": [
    {
     "name": "stdout",
     "output_type": "stream",
     "text": [
      "interval columns not set, guessing: ['rating', 'chain', 'seats', 'is_24_7', 'middle_avg_bill']\n"
     ]
    },
    {
     "data": {
      "text/html": [
       "<div>\n",
       "<style scoped>\n",
       "    .dataframe tbody tr th:only-of-type {\n",
       "        vertical-align: middle;\n",
       "    }\n",
       "\n",
       "    .dataframe tbody tr th {\n",
       "        vertical-align: top;\n",
       "    }\n",
       "\n",
       "    .dataframe thead th {\n",
       "        text-align: right;\n",
       "    }\n",
       "</style>\n",
       "<table border=\"1\" class=\"dataframe\">\n",
       "  <thead>\n",
       "    <tr style=\"text-align: right;\">\n",
       "      <th></th>\n",
       "      <th>rating</th>\n",
       "    </tr>\n",
       "  </thead>\n",
       "  <tbody>\n",
       "    <tr>\n",
       "      <th>price</th>\n",
       "      <td>0.262056</td>\n",
       "    </tr>\n",
       "    <tr>\n",
       "      <th>middle_avg_bill</th>\n",
       "      <td>0.218416</td>\n",
       "    </tr>\n",
       "    <tr>\n",
       "      <th>category</th>\n",
       "      <td>0.198949</td>\n",
       "    </tr>\n",
       "    <tr>\n",
       "      <th>district</th>\n",
       "      <td>0.189389</td>\n",
       "    </tr>\n",
       "    <tr>\n",
       "      <th>is_24_7</th>\n",
       "      <td>0.160804</td>\n",
       "    </tr>\n",
       "    <tr>\n",
       "      <th>chain</th>\n",
       "      <td>0.119071</td>\n",
       "    </tr>\n",
       "    <tr>\n",
       "      <th>seats</th>\n",
       "      <td>0.000000</td>\n",
       "    </tr>\n",
       "  </tbody>\n",
       "</table>\n",
       "</div>"
      ],
      "text/plain": [
       "                   rating\n",
       "price            0.262056\n",
       "middle_avg_bill  0.218416\n",
       "category         0.198949\n",
       "district         0.189389\n",
       "is_24_7          0.160804\n",
       "chain            0.119071\n",
       "seats            0.000000"
      ]
     },
     "execution_count": 46,
     "metadata": {},
     "output_type": "execute_result"
    }
   ],
   "source": [
    "df_corr = df[['rating', 'category', 'district', 'chain', 'seats', 'price', 'is_24_7', 'middle_avg_bill']]\n",
    "phik_matrix = df_corr.phik_matrix()\n",
    "df_corr = phik_matrix.loc[phik_matrix.index != 'rating'][['rating']].sort_values(by='rating', ascending=False)\n",
    "df_corr"
   ]
  },
  {
   "cell_type": "code",
   "execution_count": 47,
   "id": "0b13cbe8-a69d-4c66-bea2-93c20511d64c",
   "metadata": {},
   "outputs": [
    {
     "data": {
      "image/png": "[encoded data removed]",
      "text/plain": [
       "<Figure size 432x432 with 1 Axes>"
      ]
     },
     "metadata": {
      "needs_background": "light"
     },
     "output_type": "display_data"
    }
   ],
   "source": [
    "plt.figure(figsize=(6, 6))\n",
    "sns.heatmap(df_corr,\n",
    "           annot=True,\n",
    "           cmap='coolwarm',\n",
    "           linewidths=0.5,\n",
    "           cbar=False)\n",
    "\n",
    "plt.title('Тепловая карта коэффициента phi_k для данных rating')\n",
    "\n",
    "plt.show()"
   ]
  },
  {
   "cell_type": "markdown",
   "id": "11d3d831-2502-4a29-aab9-ffee5355e0d5",
   "metadata": {},
   "source": [
    "У поля рейтинг самая сильная корреляция с полем price. Рассмотрим по подробнее"
   ]
  },
  {
   "cell_type": "code",
   "execution_count": 48,
   "id": "9a3ce784-245b-4ca9-8fd1-89172df58c24",
   "metadata": {},
   "outputs": [
    {
     "data": {
      "text/plain": [
       "<AxesSubplot:title={'center':'Корреляция рейтинга к цене'}, xlabel='rating', ylabel='price'>"
      ]
     },
     "execution_count": 48,
     "metadata": {},
     "output_type": "execute_result"
    },
    {
     "data": {
      "image/png": "[encoded data removed]",
      "text/plain": [
       "<Figure size 432x288 with 1 Axes>"
      ]
     },
     "metadata": {
      "needs_background": "light"
     },
     "output_type": "display_data"
    }
   ],
   "source": [
    "phik_matrix.plot(kind='scatter',\n",
    "             x='rating',\n",
    "             y='price',\n",
    "             title='Корреляция рейтинга к цене')\n"
   ]
  },
  {
   "cell_type": "code",
   "execution_count": 70,
   "id": "d4ea21f4",
   "metadata": {},
   "outputs": [
    {
     "data": {
      "text/plain": [
       "price\n",
       "низкие           4.173077\n",
       "средние          4.297874\n",
       "выше среднего    4.386348\n",
       "высокие          4.436611\n",
       "Name: rating, dtype: float32"
      ]
     },
     "execution_count": 70,
     "metadata": {},
     "output_type": "execute_result"
    }
   ],
   "source": [
    "df.groupby('price')['rating'].mean().sort_values()"
   ]
  },
  {
   "cell_type": "markdown",
   "id": "83337f7f-4283-4857-8e5b-9dc407fbe1ab",
   "metadata": {},
   "source": [
    "## 3.7 Топ-15 популярных сетей в Москве"
   ]
  },
  {
   "cell_type": "markdown",
   "id": "a2b00868-3623-434a-b93b-6b2d00e56cdd",
   "metadata": {},
   "source": [
    "Начнём с того, что создадим новый датасет, который будет хранить в себе только информацию про завездения сетей"
   ]
  },
  {
   "cell_type": "code",
   "execution_count": 49,
   "id": "6d75acdd-a80e-4308-9f3f-5df9f05f1b8c",
   "metadata": {},
   "outputs": [],
   "source": [
    "df_chain = df.loc[df['chain'] == 1]"
   ]
  },
  {
   "cell_type": "markdown",
   "id": "829f03f5-eb6c-4512-9f01-305b0583f7b2",
   "metadata": {},
   "source": [
    "Затем создадим датасет, прогруппированный по названию и категории, отсортируем по количество точек каждой сети и выведем топ 15."
   ]
  },
  {
   "cell_type": "code",
   "execution_count": 50,
   "id": "42c4287c-9fb6-4814-9ac9-9ed9fc422b17",
   "metadata": {},
   "outputs": [
    {
     "data": {
      "text/html": [
       "<div>\n",
       "<style scoped>\n",
       "    .dataframe tbody tr th:only-of-type {\n",
       "        vertical-align: middle;\n",
       "    }\n",
       "\n",
       "    .dataframe tbody tr th {\n",
       "        vertical-align: top;\n",
       "    }\n",
       "\n",
       "    .dataframe thead th {\n",
       "        text-align: right;\n",
       "    }\n",
       "</style>\n",
       "<table border=\"1\" class=\"dataframe\">\n",
       "  <thead>\n",
       "    <tr style=\"text-align: right;\">\n",
       "      <th></th>\n",
       "      <th></th>\n",
       "      <th>rating_mean</th>\n",
       "      <th>count</th>\n",
       "    </tr>\n",
       "    <tr>\n",
       "      <th>name</th>\n",
       "      <th>category</th>\n",
       "      <th></th>\n",
       "      <th></th>\n",
       "    </tr>\n",
       "  </thead>\n",
       "  <tbody>\n",
       "    <tr>\n",
       "      <th>Шоколадница</th>\n",
       "      <th>кофейня</th>\n",
       "      <td>4.178151</td>\n",
       "      <td>119</td>\n",
       "    </tr>\n",
       "    <tr>\n",
       "      <th>Домино'с Пицца</th>\n",
       "      <th>пиццерия</th>\n",
       "      <td>4.169737</td>\n",
       "      <td>76</td>\n",
       "    </tr>\n",
       "    <tr>\n",
       "      <th>Додо Пицца</th>\n",
       "      <th>пиццерия</th>\n",
       "      <td>4.286487</td>\n",
       "      <td>74</td>\n",
       "    </tr>\n",
       "    <tr>\n",
       "      <th>One Price Coffee</th>\n",
       "      <th>кофейня</th>\n",
       "      <td>4.064789</td>\n",
       "      <td>71</td>\n",
       "    </tr>\n",
       "    <tr>\n",
       "      <th>Яндекс Лавка</th>\n",
       "      <th>ресторан</th>\n",
       "      <td>3.872464</td>\n",
       "      <td>69</td>\n",
       "    </tr>\n",
       "    <tr>\n",
       "      <th>Cofix</th>\n",
       "      <th>кофейня</th>\n",
       "      <td>4.075385</td>\n",
       "      <td>65</td>\n",
       "    </tr>\n",
       "    <tr>\n",
       "      <th>Prime</th>\n",
       "      <th>ресторан</th>\n",
       "      <td>4.114285</td>\n",
       "      <td>49</td>\n",
       "    </tr>\n",
       "    <tr>\n",
       "      <th>КОФЕПОРТ</th>\n",
       "      <th>кофейня</th>\n",
       "      <td>4.147619</td>\n",
       "      <td>42</td>\n",
       "    </tr>\n",
       "    <tr>\n",
       "      <th>Кулинарная лавка братьев Караваевых</th>\n",
       "      <th>кафе</th>\n",
       "      <td>4.394872</td>\n",
       "      <td>39</td>\n",
       "    </tr>\n",
       "    <tr>\n",
       "      <th>Теремок</th>\n",
       "      <th>ресторан</th>\n",
       "      <td>4.105556</td>\n",
       "      <td>36</td>\n",
       "    </tr>\n",
       "    <tr>\n",
       "      <th>CofeFest</th>\n",
       "      <th>кофейня</th>\n",
       "      <td>3.977419</td>\n",
       "      <td>31</td>\n",
       "    </tr>\n",
       "    <tr>\n",
       "      <th>Чайхана</th>\n",
       "      <th>кафе</th>\n",
       "      <td>3.946154</td>\n",
       "      <td>26</td>\n",
       "    </tr>\n",
       "    <tr>\n",
       "      <th>Буханка</th>\n",
       "      <th>булочная</th>\n",
       "      <td>4.416000</td>\n",
       "      <td>25</td>\n",
       "    </tr>\n",
       "    <tr>\n",
       "      <th>Drive Café</th>\n",
       "      <th>кафе</th>\n",
       "      <td>4.025000</td>\n",
       "      <td>24</td>\n",
       "    </tr>\n",
       "    <tr>\n",
       "      <th>Кофемания</th>\n",
       "      <th>кофейня</th>\n",
       "      <td>4.463636</td>\n",
       "      <td>22</td>\n",
       "    </tr>\n",
       "  </tbody>\n",
       "</table>\n",
       "</div>"
      ],
      "text/plain": [
       "                                              rating_mean  count\n",
       "name                                category                    \n",
       "Шоколадница                         кофейня      4.178151    119\n",
       "Домино'с Пицца                      пиццерия     4.169737     76\n",
       "Додо Пицца                          пиццерия     4.286487     74\n",
       "One Price Coffee                    кофейня      4.064789     71\n",
       "Яндекс Лавка                        ресторан     3.872464     69\n",
       "Cofix                               кофейня      4.075385     65\n",
       "Prime                               ресторан     4.114285     49\n",
       "КОФЕПОРТ                            кофейня      4.147619     42\n",
       "Кулинарная лавка братьев Караваевых кафе         4.394872     39\n",
       "Теремок                             ресторан     4.105556     36\n",
       "CofeFest                            кофейня      3.977419     31\n",
       "Чайхана                             кафе         3.946154     26\n",
       "Буханка                             булочная     4.416000     25\n",
       "Drive Café                          кафе         4.025000     24\n",
       "Кофемания                           кофейня      4.463636     22"
      ]
     },
     "execution_count": 50,
     "metadata": {},
     "output_type": "execute_result"
    }
   ],
   "source": [
    "df_chain = df.loc[df['chain'] == 1]\n",
    "# Группируем и переименовываем колонку\n",
    "df_group_name = (\n",
    "    df_chain.groupby(['name', 'category'])\n",
    "    .agg(rating_mean=('rating', 'mean'), count=('name', 'count'))\n",
    "    .sort_values(by=['count'], ascending=False)\n",
    ")\n",
    "df_chain = df_group_name.head(15)  \n",
    "df_chain"
   ]
  },
  {
   "cell_type": "markdown",
   "id": "82102c7d-559b-4adc-be14-ef1fadca059f",
   "metadata": {},
   "source": [
    "И выведем 2 графика с сортировкой по количеству и сортировкой по оценке."
   ]
  },
  {
   "cell_type": "code",
   "execution_count": 51,
   "id": "b3b65b15-6d55-4331-91e4-71c5a0da324e",
   "metadata": {},
   "outputs": [
    {
     "data": {
      "image/png": "[encoded data removed]",
      "text/plain": [
       "<Figure size 864x432 with 1 Axes>"
      ]
     },
     "metadata": {
      "needs_background": "light"
     },
     "output_type": "display_data"
    }
   ],
   "source": [
    "plt.figure(figsize=(12, 6))\n",
    "df_chain['count'].sort_values(ascending=True).plot(kind='barh',\n",
    "                                                   title='Топ 15 сетей по количеству заведений.',\n",
    "                                                   rot=15)\n",
    "plt.xlabel('Количество')\n",
    "plt.ylabel('Название')\n",
    "plt.grid(axis='x')\n",
    "plt.show()"
   ]
  },
  {
   "cell_type": "code",
   "execution_count": 52,
   "id": "8a552edb-833c-4192-ba65-c35e961a64bf",
   "metadata": {},
   "outputs": [
    {
     "data": {
      "image/png": "[encoded data removed]",
      "text/plain": [
       "<Figure size 864x432 with 1 Axes>"
      ]
     },
     "metadata": {
      "needs_background": "light"
     },
     "output_type": "display_data"
    }
   ],
   "source": [
    "plt.figure(figsize=(12, 6))\n",
    "df_chain['rating_mean'].sort_values(ascending=True).plot(kind='barh',\n",
    "                                                         title='Топ 15 сетей по количеству заведений. (рейтинг)',\n",
    "                                                         rot=15)      \n",
    "plt.xlabel('Рейтинг')\n",
    "plt.ylabel('Название')\n",
    "plt.grid(axis='x')\n",
    "plt.show()"
   ]
  },
  {
   "cell_type": "markdown",
   "id": "5fe03c42-0f83-45ab-812c-16f3409afb6d",
   "metadata": {},
   "source": [
    "По результатам мы получили, что сеть `Шоколадница` имеет больше всего точек, но при этом только на 5 месте по рейтингу, а `Кофемания`, хоть и имеет меньше всего точек, но самая высокая по оценкам. Возможно стоит открыть заведение в их сети?"
   ]
  },
  {
   "cell_type": "markdown",
   "id": "deca66da-f3b8-4849-8c9d-588f6b2824f7",
   "metadata": {},
   "source": [
    "## 3.8. Вариация среднего чека заведения в зависимоти от района Москвы"
   ]
  },
  {
   "cell_type": "markdown",
   "id": "9e9f7a3d-9f42-452d-a227-eaf47b9ed356",
   "metadata": {},
   "source": [
    "Изучим данные по выбросам среднего чека\n"
   ]
  },
  {
   "cell_type": "code",
   "execution_count": 53,
   "id": "7d7e7d73-e444-492f-8f59-73ec55c4ed08",
   "metadata": {},
   "outputs": [
    {
     "data": {
      "image/png": "[encoded data removed]",
      "text/plain": [
       "<Figure size 864x432 with 1 Axes>"
      ]
     },
     "metadata": {
      "needs_background": "light"
     },
     "output_type": "display_data"
    }
   ],
   "source": [
    "plt.figure(figsize=(12, 6))\n",
    "boxlpot = df.boxplot(column = 'middle_avg_bill',\n",
    "                    vert=False)\n",
    "plt.show()"
   ]
  },
  {
   "cell_type": "code",
   "execution_count": 54,
   "id": "84b8efb0-47de-4505-85a6-6996af69a6df",
   "metadata": {},
   "outputs": [
    {
     "data": {
      "text/plain": [
       "count     3149.000000\n",
       "mean       958.053650\n",
       "std       1009.732849\n",
       "min          0.000000\n",
       "50%        750.000000\n",
       "60%       1000.000000\n",
       "70%       1200.000000\n",
       "80%       1470.000000\n",
       "95%       2250.000000\n",
       "99%       3750.000000\n",
       "max      35000.000000\n",
       "Name: middle_avg_bill, dtype: float64"
      ]
     },
     "execution_count": 54,
     "metadata": {},
     "output_type": "execute_result"
    }
   ],
   "source": [
    "df['middle_avg_bill'].describe(percentiles=[0.5, 0.6, 0.7, 0.8, 0.95, 0.99])"
   ]
  },
  {
   "cell_type": "markdown",
   "id": "8e763e41-f80c-42b7-b301-8814182d8ea7",
   "metadata": {},
   "source": [
    "Вычислим медиану среднего чека по каждому району, а также отсортируем по убыванию:"
   ]
  },
  {
   "cell_type": "code",
   "execution_count": 55,
   "id": "1ce53885-de89-4980-b727-c4d03deb5483",
   "metadata": {},
   "outputs": [
    {
     "data": {
      "text/plain": [
       "district\n",
       "Западный            1000.0\n",
       "Центральный         1000.0\n",
       "Северо-Западный      700.0\n",
       "Северный             650.0\n",
       "Юго-Западный         600.0\n",
       "Восточный            575.0\n",
       "Северо-Восточный     500.0\n",
       "Южный                500.0\n",
       "Юго-Восточный        450.0\n",
       "Name: middle_avg_bill, dtype: float32"
      ]
     },
     "execution_count": 55,
     "metadata": {},
     "output_type": "execute_result"
    }
   ],
   "source": [
    "avg_price_district = df.groupby('district')['middle_avg_bill'].median().sort_values(ascending=False)\n",
    "avg_price_district"
   ]
  },
  {
   "cell_type": "markdown",
   "id": "26f4ecb9-0a1a-473f-92a4-badd4a6bcf3c",
   "metadata": {},
   "source": [
    "После изучения всех данных в поле `middle_avg_bill`, мы можем сделать следующие выводы:\n",
    "1. 99% заведений имеют средние чеки до 3750 рублей.\n",
    "2. Максимальный средний чек 35000. Хороший такой обед :) Скорее всего это связано с какой-то ошибкой. Это явный выброс"
   ]
  },
  {
   "cell_type": "markdown",
   "id": "fd62aa84-b5aa-481c-b111-4ddeb1c1cdd2",
   "metadata": {},
   "source": [
    "Вычислим медиану среднего чека по каждому району, а также отсортируем по убыванию:"
   ]
  },
  {
   "cell_type": "code",
   "execution_count": 56,
   "id": "654ff701-5191-46bb-ac77-156e01ee79df",
   "metadata": {},
   "outputs": [
    {
     "data": {
      "image/png": "[encoded data removed]",
      "text/plain": [
       "<Figure size 864x432 with 1 Axes>"
      ]
     },
     "metadata": {
      "needs_background": "light"
     },
     "output_type": "display_data"
    }
   ],
   "source": [
    "plt.figure(figsize=(12, 6))\n",
    "avg_price_district.plot(kind='bar',\n",
    "                        title='Средний чек по всем районам',\n",
    "                        rot=15)\n",
    "plt.xlabel('Название района')\n",
    "plt.ylabel('Средний чек')\n",
    "plt.grid(axis='y')\n",
    "plt.show()"
   ]
  },
  {
   "cell_type": "markdown",
   "id": "7a8ebb3c-3ceb-405f-aa2f-d96aec379c0e",
   "metadata": {},
   "source": [
    "#### Вывод\n",
    "Здесь мы получили интересный результат, западный район по ценам такой же, как и центральный! Но при этом в остальных районах цены значительно меньше.\n",
    "\n",
    "Если захотите недорого покушать, то Юго-Восточный - отличный вариант! Ведь в нём средний чек всего 450 рублей!"
   ]
  },
  {
   "cell_type": "markdown",
   "id": "e8405aa4-175a-4998-8682-50561f8b6f46",
   "metadata": {},
   "source": [
    "## Вывод по 3 шагу:\n",
    "\n",
    "Была проделана большая работа по изучению данных, и вот что мы имеем по итогу:\n",
    "1. Больше всего в Москве заведений в категории кафе, они занимают аж 28%;\n",
    "2. Самый богатый на различные заведения округ - Центральный. Он имеет 26.6% от всех точек города. Самый не популярный - Северо-Западный, всего лишь 4.9%;\n",
    "3. Сетевых точек меньше, чем несетевых. Их соотношение примерно 40/60. Но при этом, в категориях: булочная, кофейня и пиццерия, сетевых точек больше, чем несетевых;\n",
    "4. Самые большое количество посадочных мест понадобиться для ресторанов, бар/паб, кофеин. У них у всех, наиболее типичное количество в районе 80. При этом булочная, ипиццерия и кафе едва достигают 60;\n",
    "5. Средний рейтинг у всех категорий примерно одинаковый, в районе 4-4.4. Но бары/пабы и пиццерии имеют наивысшие средние оценки -  4.38 и 4.3;\n",
    "6. У рейтинга самая большая корреляция с полем категорий цен. Это значит, что нужно внимательно следить за ценами, чтоб рейтинг у заведения был выше;\n",
    "7. Самые популярные сети - кофейни, но пиццерии занимают 2 и 3 место по количеству и 4 и 6 место по рейтингу;\n",
    "8. Самые дорогие районы - Западный и Центральный (1000 средний чек) , а дешёвые - Южный (500), Северо-Восточный(500) и Юго-восточный(450)."
   ]
  },
  {
   "cell_type": "markdown",
   "id": "af0a2aea-1f5b-41f8-9c98-7f11d52b1573",
   "metadata": {},
   "source": [
    "# 4 Детальное исследование пиццерий"
   ]
  },
  {
   "cell_type": "markdown",
   "id": "5500f1c7-a0cf-42a8-afed-41e336c9df43",
   "metadata": {},
   "source": [
    "## 4.1. Количество пиццерий и их доля в разрезе районов"
   ]
  },
  {
   "cell_type": "markdown",
   "id": "ca5ae324-efa9-4e57-b9e0-c51f619f2271",
   "metadata": {},
   "source": [
    "Если обратиться к пункту 3.1, то мы можем увидеть, что у нас всего 633 заведния в категории пиццерия. Изучим поподробнее их в разрезе района.\n",
    "\n",
    "Для начала, создадим новый датасет, который будет хранить в себе только информацию о заведениях с пиццей"
   ]
  },
  {
   "cell_type": "code",
   "execution_count": 57,
   "id": "dda9c4b6-d314-4c47-8fd0-fda689f37d10",
   "metadata": {},
   "outputs": [
    {
     "data": {
      "text/html": [
       "<div>\n",
       "<style scoped>\n",
       "    .dataframe tbody tr th:only-of-type {\n",
       "        vertical-align: middle;\n",
       "    }\n",
       "\n",
       "    .dataframe tbody tr th {\n",
       "        vertical-align: top;\n",
       "    }\n",
       "\n",
       "    .dataframe thead th {\n",
       "        text-align: right;\n",
       "    }\n",
       "</style>\n",
       "<table border=\"1\" class=\"dataframe\">\n",
       "  <thead>\n",
       "    <tr style=\"text-align: right;\">\n",
       "      <th></th>\n",
       "      <th>id</th>\n",
       "      <th>name</th>\n",
       "      <th>category</th>\n",
       "      <th>address</th>\n",
       "      <th>district</th>\n",
       "      <th>hours</th>\n",
       "      <th>rating</th>\n",
       "      <th>chain</th>\n",
       "      <th>seats</th>\n",
       "      <th>price</th>\n",
       "      <th>avg_bill</th>\n",
       "      <th>middle_avg_bill</th>\n",
       "      <th>middle_coffee_cup</th>\n",
       "      <th>all_middle_price</th>\n",
       "      <th>is_24_7</th>\n",
       "    </tr>\n",
       "  </thead>\n",
       "  <tbody>\n",
       "    <tr>\n",
       "      <th>4</th>\n",
       "      <td>a163aada139c4c7f87b0b1c0b466a50f</td>\n",
       "      <td>Иль Марко</td>\n",
       "      <td>пиццерия</td>\n",
       "      <td>Москва, Правобережная улица, 1Б</td>\n",
       "      <td>Северный</td>\n",
       "      <td>ежедневно, 10:00–22:00</td>\n",
       "      <td>5.0</td>\n",
       "      <td>1</td>\n",
       "      <td>148.0</td>\n",
       "      <td>средние</td>\n",
       "      <td>Средний счёт:400–600 ₽</td>\n",
       "      <td>500.0</td>\n",
       "      <td>NaN</td>\n",
       "      <td>500.0</td>\n",
       "      <td>0</td>\n",
       "    </tr>\n",
       "    <tr>\n",
       "      <th>5</th>\n",
       "      <td>8a343546b24e4a499ad96eb7d0797a8a</td>\n",
       "      <td>Sergio Pizza</td>\n",
       "      <td>пиццерия</td>\n",
       "      <td>Москва, Ижорская улица, вл8Б</td>\n",
       "      <td>Северный</td>\n",
       "      <td>ежедневно, 10:00–23:00</td>\n",
       "      <td>4.6</td>\n",
       "      <td>0</td>\n",
       "      <td>NaN</td>\n",
       "      <td>средние</td>\n",
       "      <td>NaN</td>\n",
       "      <td>NaN</td>\n",
       "      <td>NaN</td>\n",
       "      <td>NaN</td>\n",
       "      <td>0</td>\n",
       "    </tr>\n",
       "    <tr>\n",
       "      <th>26</th>\n",
       "      <td>1b831beddbde4c58bc8f6b7fa2c269c2</td>\n",
       "      <td>Пикочино</td>\n",
       "      <td>пиццерия</td>\n",
       "      <td>Москва, Дмитровское шоссе, 107к2</td>\n",
       "      <td>Северный</td>\n",
       "      <td>пн-чт 11:00–22:00; пт,сб 11:00–23:00; вс 11:00...</td>\n",
       "      <td>4.5</td>\n",
       "      <td>0</td>\n",
       "      <td>NaN</td>\n",
       "      <td>средние</td>\n",
       "      <td>Средний счёт:300–1500 ₽</td>\n",
       "      <td>900.0</td>\n",
       "      <td>NaN</td>\n",
       "      <td>900.0</td>\n",
       "      <td>0</td>\n",
       "    </tr>\n",
       "    <tr>\n",
       "      <th>32</th>\n",
       "      <td>4e5314c970cc47c58e5d24ee3ee70fa9</td>\n",
       "      <td>Додо Пицца</td>\n",
       "      <td>пиццерия</td>\n",
       "      <td>Москва, Коровинское шоссе, 23, корп. 1</td>\n",
       "      <td>Северный</td>\n",
       "      <td>ежедневно, 09:00–23:00</td>\n",
       "      <td>4.3</td>\n",
       "      <td>1</td>\n",
       "      <td>46.0</td>\n",
       "      <td>NaN</td>\n",
       "      <td>Средний счёт:328 ₽</td>\n",
       "      <td>328.0</td>\n",
       "      <td>NaN</td>\n",
       "      <td>328.0</td>\n",
       "      <td>0</td>\n",
       "    </tr>\n",
       "    <tr>\n",
       "      <th>34</th>\n",
       "      <td>629ac86faa0b4ca49eda1ee27cbda5bb</td>\n",
       "      <td>Домино'с Пицца</td>\n",
       "      <td>пиццерия</td>\n",
       "      <td>Москва, Клязьминская улица, 11, корп. 4</td>\n",
       "      <td>Северный</td>\n",
       "      <td>ежедневно, 10:00–23:00</td>\n",
       "      <td>4.2</td>\n",
       "      <td>1</td>\n",
       "      <td>247.0</td>\n",
       "      <td>NaN</td>\n",
       "      <td>Средний счёт:от 500 ₽</td>\n",
       "      <td>500.0</td>\n",
       "      <td>NaN</td>\n",
       "      <td>500.0</td>\n",
       "      <td>0</td>\n",
       "    </tr>\n",
       "  </tbody>\n",
       "</table>\n",
       "</div>"
      ],
      "text/plain": [
       "                                  id            name  category  \\\n",
       "4   a163aada139c4c7f87b0b1c0b466a50f       Иль Марко  пиццерия   \n",
       "5   8a343546b24e4a499ad96eb7d0797a8a    Sergio Pizza  пиццерия   \n",
       "26  1b831beddbde4c58bc8f6b7fa2c269c2        Пикочино  пиццерия   \n",
       "32  4e5314c970cc47c58e5d24ee3ee70fa9      Додо Пицца  пиццерия   \n",
       "34  629ac86faa0b4ca49eda1ee27cbda5bb  Домино'с Пицца  пиццерия   \n",
       "\n",
       "                                    address  district  \\\n",
       "4           Москва, Правобережная улица, 1Б  Северный   \n",
       "5              Москва, Ижорская улица, вл8Б  Северный   \n",
       "26         Москва, Дмитровское шоссе, 107к2  Северный   \n",
       "32   Москва, Коровинское шоссе, 23, корп. 1  Северный   \n",
       "34  Москва, Клязьминская улица, 11, корп. 4  Северный   \n",
       "\n",
       "                                                hours  rating  chain  seats  \\\n",
       "4                              ежедневно, 10:00–22:00     5.0      1  148.0   \n",
       "5                              ежедневно, 10:00–23:00     4.6      0    NaN   \n",
       "26  пн-чт 11:00–22:00; пт,сб 11:00–23:00; вс 11:00...     4.5      0    NaN   \n",
       "32                             ежедневно, 09:00–23:00     4.3      1   46.0   \n",
       "34                             ежедневно, 10:00–23:00     4.2      1  247.0   \n",
       "\n",
       "      price                 avg_bill  middle_avg_bill  middle_coffee_cup  \\\n",
       "4   средние   Средний счёт:400–600 ₽            500.0                NaN   \n",
       "5   средние                      NaN              NaN                NaN   \n",
       "26  средние  Средний счёт:300–1500 ₽            900.0                NaN   \n",
       "32      NaN       Средний счёт:328 ₽            328.0                NaN   \n",
       "34      NaN    Средний счёт:от 500 ₽            500.0                NaN   \n",
       "\n",
       "    all_middle_price  is_24_7  \n",
       "4              500.0        0  \n",
       "5                NaN        0  \n",
       "26             900.0        0  \n",
       "32             328.0        0  \n",
       "34             500.0        0  "
      ]
     },
     "execution_count": 57,
     "metadata": {},
     "output_type": "execute_result"
    }
   ],
   "source": [
    "df_pizza = df.loc[df['category'] == 'пиццерия']\n",
    "df_pizza.head()"
   ]
  },
  {
   "cell_type": "markdown",
   "id": "9c2940b5-a5ab-4f6c-8e0b-8fe4faf661ec",
   "metadata": {},
   "source": [
    "Теперь прогруппируем точки по районам и узнаем сколько точек в каждом районе есть. Также отсортируем по убыванию."
   ]
  },
  {
   "cell_type": "code",
   "execution_count": 58,
   "id": "7ad908b6-24b1-4d12-8dd7-6a1faf5591ca",
   "metadata": {},
   "outputs": [
    {
     "data": {
      "text/plain": [
       "district\n",
       "Центральный         113\n",
       "Северный             77\n",
       "Южный                73\n",
       "Восточный            72\n",
       "Западный             71\n",
       "Северо-Восточный     68\n",
       "Юго-Западный         64\n",
       "Юго-Восточный        55\n",
       "Северо-Западный      40\n",
       "Name: id, dtype: int64"
      ]
     },
     "execution_count": 58,
     "metadata": {},
     "output_type": "execute_result"
    }
   ],
   "source": [
    "df_group_pizza = df_pizza.groupby('district')['id'].count().sort_values(ascending=False)\n",
    "df_group_pizza"
   ]
  },
  {
   "cell_type": "code",
   "execution_count": 59,
   "id": "fa6d9023-556a-410a-a0a4-bd9af0fa55ad",
   "metadata": {},
   "outputs": [
    {
     "data": {
      "image/png": "[encoded data removed]",
      "text/plain": [
       "<Figure size 864x432 with 1 Axes>"
      ]
     },
     "metadata": {
      "needs_background": "light"
     },
     "output_type": "display_data"
    }
   ],
   "source": [
    "plt.figure(figsize=(12,6))\n",
    "df_group_pizza.plot(kind='bar',\n",
    "                    title='Количество пиццерий по округам',\n",
    "                    rot = 15)\n",
    "plt.ylabel('Количество')\n",
    "plt.xlabel('Округ')\n",
    "plt.grid(axis='y')\n",
    "plt.show()"
   ]
  },
  {
   "cell_type": "markdown",
   "id": "cac9b006-fe88-465c-b24b-3d33c3359b62",
   "metadata": {},
   "source": [
    "Теперь мы знаем, что самый популярный район на пиццерии Центральный, а Северо-Западный наоборот, менее популярный.\n",
    "\n",
    "Изучим данные также в процентном соотношении"
   ]
  },
  {
   "cell_type": "code",
   "execution_count": 60,
   "id": "fb5e83e9-7e59-4801-9088-3c67d9060b35",
   "metadata": {},
   "outputs": [
    {
     "data": {
      "text/plain": [
       "district\n",
       "Восточный            798\n",
       "Западный             851\n",
       "Северный             900\n",
       "Северо-Восточный     891\n",
       "Северо-Западный      409\n",
       "Центральный         2242\n",
       "Юго-Восточный        714\n",
       "Юго-Западный         709\n",
       "Южный                892\n",
       "Name: id, dtype: int64"
      ]
     },
     "execution_count": 60,
     "metadata": {},
     "output_type": "execute_result"
    }
   ],
   "source": [
    "df_group_pizza = df_pizza.groupby('district')['id'].count()\n",
    "df_total_count = df.groupby('district')['id'].count()\n",
    "df_total_count"
   ]
  },
  {
   "cell_type": "code",
   "execution_count": 61,
   "id": "65dca226-62e8-4ecb-b2c9-0def83d5d2d6",
   "metadata": {},
   "outputs": [
    {
     "data": {
      "text/plain": [
       "district\n",
       "Северо-Западный     9.780\n",
       "Юго-Западный        9.027\n",
       "Восточный           9.023\n",
       "Северный            8.556\n",
       "Западный            8.343\n",
       "Южный               8.184\n",
       "Юго-Восточный       7.703\n",
       "Северо-Восточный    7.632\n",
       "Центральный         5.040\n",
       "Name: id, dtype: float64"
      ]
     },
     "execution_count": 61,
     "metadata": {},
     "output_type": "execute_result"
    }
   ],
   "source": [
    "df_pizza_prec = round(((df_group_pizza / df_total_count).sort_values(ascending=False)) * 100,  3)\n",
    "df_pizza_prec "
   ]
  },
  {
   "cell_type": "code",
   "execution_count": 62,
   "id": "a0b1e207-e7c4-4424-aabc-c0fb2075f1e8",
   "metadata": {},
   "outputs": [
    {
     "data": {
      "image/png": "[encoded data removed]",
      "text/plain": [
       "<Figure size 864x432 with 1 Axes>"
      ]
     },
     "metadata": {
      "needs_background": "light"
     },
     "output_type": "display_data"
    }
   ],
   "source": [
    "plt.figure(figsize=(12,6))\n",
    "df_pizza_prec.plot(kind='bar',\n",
    "                    title='Количество пиццерий по округам',\n",
    "                    rot = 15)\n",
    "plt.ylabel('Количество')\n",
    "plt.xlabel('Округ')\n",
    "plt.grid(axis='y')\n",
    "plt.show()"
   ]
  },
  {
   "cell_type": "markdown",
   "id": "2348c4d9-e9e4-4bb9-93f8-df61c5dbb242",
   "metadata": {},
   "source": [
    "Больше всего пиццерий по соотношению к другим заведениям находится в Северо-Западном районе, почти 10% всех заведний - пиццерии. Центральный же на удивление находится на послледнем месте, всего 5% заведений - пиццерии."
   ]
  },
  {
   "cell_type": "markdown",
   "id": "b17cd03b-ef53-4bed-bc46-6e02bd8a0ab8",
   "metadata": {},
   "source": [
    "## 4.2. Характеристика средней пиццерии\n",
    "\n",
    "Изучим средние показатели по всем пиццериям. К сожалению, с кофем в пиццериях всё сложно. Нет достаточной информации для оценки этого показателя. У нас есть информация только о 3 точках"
   ]
  },
  {
   "cell_type": "code",
   "execution_count": 63,
   "id": "621bddfa-7bff-4d06-93a4-de781dc62003",
   "metadata": {},
   "outputs": [
    {
     "data": {
      "text/html": [
       "<div>\n",
       "<style scoped>\n",
       "    .dataframe tbody tr th:only-of-type {\n",
       "        vertical-align: middle;\n",
       "    }\n",
       "\n",
       "    .dataframe tbody tr th {\n",
       "        vertical-align: top;\n",
       "    }\n",
       "\n",
       "    .dataframe thead th {\n",
       "        text-align: right;\n",
       "    }\n",
       "</style>\n",
       "<table border=\"1\" class=\"dataframe\">\n",
       "  <thead>\n",
       "    <tr style=\"text-align: right;\">\n",
       "      <th></th>\n",
       "      <th>seats</th>\n",
       "      <th>middle_avg_bill</th>\n",
       "      <th>rating</th>\n",
       "    </tr>\n",
       "    <tr>\n",
       "      <th>category</th>\n",
       "      <th></th>\n",
       "      <th></th>\n",
       "      <th></th>\n",
       "    </tr>\n",
       "  </thead>\n",
       "  <tbody>\n",
       "    <tr>\n",
       "      <th>пиццерия</th>\n",
       "      <td>94.49649</td>\n",
       "      <td>789.377197</td>\n",
       "      <td>4.301264</td>\n",
       "    </tr>\n",
       "  </tbody>\n",
       "</table>\n",
       "</div>"
      ],
      "text/plain": [
       "             seats  middle_avg_bill    rating\n",
       "category                                     \n",
       "пиццерия  94.49649       789.377197  4.301264"
      ]
     },
     "execution_count": 63,
     "metadata": {},
     "output_type": "execute_result"
    }
   ],
   "source": [
    "df_pizza_group_mean = df_pizza.groupby('category').agg({'seats':'mean', 'middle_avg_bill':'mean', 'rating':'mean'})\n",
    "df_pizza_group_mean"
   ]
  },
  {
   "cell_type": "markdown",
   "id": "47f4afdb-39a6-4b9c-b30a-4d0c3306cb00",
   "metadata": {},
   "source": [
    "По средним показателям, каждая пиццерия имеет 76 сидячих мест, 789 рублей средний чек, а рейтинг составляет 4.3.\n",
    "\n",
    "Построим графики с информацией о долях сетевых и круглосуточных заведений"
   ]
  },
  {
   "cell_type": "code",
   "execution_count": 64,
   "id": "743b4c24-4166-4227-adad-ffa8c5826bd5",
   "metadata": {},
   "outputs": [
    {
     "data": {
      "image/png": "[encoded data removed]",
      "text/plain": [
       "<Figure size 864x432 with 1 Axes>"
      ]
     },
     "metadata": {
      "needs_background": "light"
     },
     "output_type": "display_data"
    }
   ],
   "source": [
    "df_group_pizza_chain = round((df_pizza.groupby('chain')['chain'].count() / len(df_pizza)) * 100, 2)\n",
    "plt.figure(figsize=(12,6))\n",
    "df_group_pizza_chain.plot(kind='bar',\n",
    "                    title='Соотношение сетевых и несетвых пиццерий',\n",
    "                    rot = 0)\n",
    "plt.ylabel('Процент')\n",
    "plt.xlabel('0 - несетевые точки, 1 - сетевые точки')\n",
    "plt.grid(axis='y')\n",
    "plt.show()"
   ]
  },
  {
   "cell_type": "markdown",
   "id": "24e54bb5-a80c-49bf-b461-0aab93014626",
   "metadata": {},
   "source": [
    "Можно сделать вывод, что сетевых точек всё же больше, но незначительно. Статистика делится примерно 51 на 49."
   ]
  },
  {
   "cell_type": "code",
   "execution_count": 65,
   "id": "5370c912-d7d2-4711-af3b-871be46266a1",
   "metadata": {},
   "outputs": [
    {
     "data": {
      "image/png": "[encoded data removed]",
      "text/plain": [
       "<Figure size 864x432 with 1 Axes>"
      ]
     },
     "metadata": {
      "needs_background": "light"
     },
     "output_type": "display_data"
    }
   ],
   "source": [
    "df_group_pizza_24 = round((df_pizza.groupby('is_24_7')['is_24_7'].count() / len(df_pizza)) * 100, 2)\n",
    "plt.figure(figsize=(12,6))\n",
    "df_group_pizza_24.plot(kind='bar',\n",
    "                    title='Соотношение круглосуточных и ежедневных точек и со своим графиком',\n",
    "                    rot = 0)\n",
    "plt.ylabel('Процент')\n",
    "plt.xlabel('0 - свой график, 1 - круглосуточно, ежедневно')\n",
    "plt.grid(axis='y')\n",
    "plt.show()"
   ]
  },
  {
   "cell_type": "markdown",
   "id": "47f87eb0-86d2-4297-96f3-c33b155e0022",
   "metadata": {},
   "source": [
    "Здесь картина совершенно другая. Практически все пиццерии - не круглосуточные, ежедневные (в районе 95%). "
   ]
  },
  {
   "cell_type": "markdown",
   "id": "72f03443-b25f-461a-a55b-7fd49bf493c4",
   "metadata": {},
   "source": [
    "## 4.3 Сетевые и несетевые пиццерии в Москве по округам"
   ]
  },
  {
   "cell_type": "code",
   "execution_count": 66,
   "id": "3cbed7d3-f985-48d6-a907-7e0062861a38",
   "metadata": {},
   "outputs": [
    {
     "data": {
      "text/plain": [
       "<Figure size 864x432 with 0 Axes>"
      ]
     },
     "metadata": {},
     "output_type": "display_data"
    },
    {
     "data": {
      "image/png": "[encoded data removed]",
      "text/plain": [
       "<Figure size 432x288 with 1 Axes>"
      ]
     },
     "metadata": {
      "needs_background": "light"
     },
     "output_type": "display_data"
    }
   ],
   "source": [
    "\n",
    "\n",
    "df_group_pizza_chain = round(df_pizza.groupby(['district'])['chain'].value_counts().unstack(fill_value=0) / len(df_pizza) * 100, 2)\n",
    "plt.figure(figsize=(12,6))\n",
    "df_group_pizza_chain.plot(kind='barh',\n",
    "                    title='Соотношение сетевых и несетвых пиццерий по округам',\n",
    "                    rot = 0)\n",
    "plt.ylabel('0 - несетевые точки, 1 - сетевые точки')\n",
    "plt.xlabel('Процент')\n",
    "plt.grid(axis='x')\n",
    "plt.show()"
   ]
  },
  {
   "cell_type": "markdown",
   "id": "d10b04c2-a412-45b9-8239-1a0d819e5e36",
   "metadata": {},
   "source": [
    "Также изучим информацию о пиццериях по соотношению ко всем точкам"
   ]
  },
  {
   "cell_type": "code",
   "execution_count": 67,
   "id": "4bfae087-959b-44ba-9136-121d22877c03",
   "metadata": {},
   "outputs": [
    {
     "data": {
      "text/html": [
       "<div>\n",
       "<style scoped>\n",
       "    .dataframe tbody tr th:only-of-type {\n",
       "        vertical-align: middle;\n",
       "    }\n",
       "\n",
       "    .dataframe tbody tr th {\n",
       "        vertical-align: top;\n",
       "    }\n",
       "\n",
       "    .dataframe thead th {\n",
       "        text-align: right;\n",
       "    }\n",
       "</style>\n",
       "<table border=\"1\" class=\"dataframe\">\n",
       "  <thead>\n",
       "    <tr style=\"text-align: right;\">\n",
       "      <th></th>\n",
       "      <th>id</th>\n",
       "      <th>name</th>\n",
       "      <th>category</th>\n",
       "      <th>address</th>\n",
       "      <th>district</th>\n",
       "      <th>hours</th>\n",
       "      <th>rating</th>\n",
       "      <th>chain</th>\n",
       "      <th>seats</th>\n",
       "      <th>price</th>\n",
       "      <th>avg_bill</th>\n",
       "      <th>middle_avg_bill</th>\n",
       "      <th>middle_coffee_cup</th>\n",
       "      <th>all_middle_price</th>\n",
       "      <th>is_24_7</th>\n",
       "    </tr>\n",
       "  </thead>\n",
       "  <tbody>\n",
       "    <tr>\n",
       "      <th>4</th>\n",
       "      <td>a163aada139c4c7f87b0b1c0b466a50f</td>\n",
       "      <td>Иль Марко</td>\n",
       "      <td>пиццерия</td>\n",
       "      <td>Москва, Правобережная улица, 1Б</td>\n",
       "      <td>Северный</td>\n",
       "      <td>ежедневно, 10:00–22:00</td>\n",
       "      <td>5.0</td>\n",
       "      <td>1</td>\n",
       "      <td>148.0</td>\n",
       "      <td>средние</td>\n",
       "      <td>Средний счёт:400–600 ₽</td>\n",
       "      <td>500.0</td>\n",
       "      <td>NaN</td>\n",
       "      <td>500.0</td>\n",
       "      <td>0</td>\n",
       "    </tr>\n",
       "    <tr>\n",
       "      <th>32</th>\n",
       "      <td>4e5314c970cc47c58e5d24ee3ee70fa9</td>\n",
       "      <td>Додо Пицца</td>\n",
       "      <td>пиццерия</td>\n",
       "      <td>Москва, Коровинское шоссе, 23, корп. 1</td>\n",
       "      <td>Северный</td>\n",
       "      <td>ежедневно, 09:00–23:00</td>\n",
       "      <td>4.3</td>\n",
       "      <td>1</td>\n",
       "      <td>46.0</td>\n",
       "      <td>NaN</td>\n",
       "      <td>Средний счёт:328 ₽</td>\n",
       "      <td>328.0</td>\n",
       "      <td>NaN</td>\n",
       "      <td>328.0</td>\n",
       "      <td>0</td>\n",
       "    </tr>\n",
       "    <tr>\n",
       "      <th>34</th>\n",
       "      <td>629ac86faa0b4ca49eda1ee27cbda5bb</td>\n",
       "      <td>Домино'с Пицца</td>\n",
       "      <td>пиццерия</td>\n",
       "      <td>Москва, Клязьминская улица, 11, корп. 4</td>\n",
       "      <td>Северный</td>\n",
       "      <td>ежедневно, 10:00–23:00</td>\n",
       "      <td>4.2</td>\n",
       "      <td>1</td>\n",
       "      <td>247.0</td>\n",
       "      <td>NaN</td>\n",
       "      <td>Средний счёт:от 500 ₽</td>\n",
       "      <td>500.0</td>\n",
       "      <td>NaN</td>\n",
       "      <td>500.0</td>\n",
       "      <td>0</td>\n",
       "    </tr>\n",
       "    <tr>\n",
       "      <th>63</th>\n",
       "      <td>16ec97cbbf3144e396d2f4be5f75f234</td>\n",
       "      <td>Pizza Hut</td>\n",
       "      <td>пиццерия</td>\n",
       "      <td>Москва, Череповецкая улица, 12</td>\n",
       "      <td>Северо-Восточный</td>\n",
       "      <td>ежедневно, 10:00–22:00</td>\n",
       "      <td>4.2</td>\n",
       "      <td>1</td>\n",
       "      <td>12.0</td>\n",
       "      <td>средние</td>\n",
       "      <td>Средний счёт:600–700 ₽</td>\n",
       "      <td>650.0</td>\n",
       "      <td>NaN</td>\n",
       "      <td>650.0</td>\n",
       "      <td>0</td>\n",
       "    </tr>\n",
       "    <tr>\n",
       "      <th>88</th>\n",
       "      <td>0ba252477b914f248002226c96a8b583</td>\n",
       "      <td>Zамания</td>\n",
       "      <td>пиццерия</td>\n",
       "      <td>Москва, Дмитровское шоссе, 163А</td>\n",
       "      <td>Северо-Восточный</td>\n",
       "      <td>ежедневно, 10:00–22:00</td>\n",
       "      <td>4.9</td>\n",
       "      <td>1</td>\n",
       "      <td>NaN</td>\n",
       "      <td>NaN</td>\n",
       "      <td>NaN</td>\n",
       "      <td>NaN</td>\n",
       "      <td>NaN</td>\n",
       "      <td>NaN</td>\n",
       "      <td>0</td>\n",
       "    </tr>\n",
       "  </tbody>\n",
       "</table>\n",
       "</div>"
      ],
      "text/plain": [
       "                                  id            name  category  \\\n",
       "4   a163aada139c4c7f87b0b1c0b466a50f       Иль Марко  пиццерия   \n",
       "32  4e5314c970cc47c58e5d24ee3ee70fa9      Додо Пицца  пиццерия   \n",
       "34  629ac86faa0b4ca49eda1ee27cbda5bb  Домино'с Пицца  пиццерия   \n",
       "63  16ec97cbbf3144e396d2f4be5f75f234       Pizza Hut  пиццерия   \n",
       "88  0ba252477b914f248002226c96a8b583         Zамания  пиццерия   \n",
       "\n",
       "                                    address          district  \\\n",
       "4           Москва, Правобережная улица, 1Б          Северный   \n",
       "32   Москва, Коровинское шоссе, 23, корп. 1          Северный   \n",
       "34  Москва, Клязьминская улица, 11, корп. 4          Северный   \n",
       "63           Москва, Череповецкая улица, 12  Северо-Восточный   \n",
       "88          Москва, Дмитровское шоссе, 163А  Северо-Восточный   \n",
       "\n",
       "                     hours  rating  chain  seats    price  \\\n",
       "4   ежедневно, 10:00–22:00     5.0      1  148.0  средние   \n",
       "32  ежедневно, 09:00–23:00     4.3      1   46.0      NaN   \n",
       "34  ежедневно, 10:00–23:00     4.2      1  247.0      NaN   \n",
       "63  ежедневно, 10:00–22:00     4.2      1   12.0  средние   \n",
       "88  ежедневно, 10:00–22:00     4.9      1    NaN      NaN   \n",
       "\n",
       "                  avg_bill  middle_avg_bill  middle_coffee_cup  \\\n",
       "4   Средний счёт:400–600 ₽            500.0                NaN   \n",
       "32      Средний счёт:328 ₽            328.0                NaN   \n",
       "34   Средний счёт:от 500 ₽            500.0                NaN   \n",
       "63  Средний счёт:600–700 ₽            650.0                NaN   \n",
       "88                     NaN              NaN                NaN   \n",
       "\n",
       "    all_middle_price  is_24_7  \n",
       "4              500.0        0  \n",
       "32             328.0        0  \n",
       "34             500.0        0  \n",
       "63             650.0        0  \n",
       "88               NaN        0  "
      ]
     },
     "execution_count": 67,
     "metadata": {},
     "output_type": "execute_result"
    }
   ],
   "source": [
    "df_chain_pizza = df.loc[(df['chain'] == 1) & (df['category'] == 'пиццерия')]\n",
    "df_chain_pizza.head()"
   ]
  },
  {
   "cell_type": "code",
   "execution_count": 68,
   "id": "9136760f-b818-4e41-b882-6db43737be18",
   "metadata": {},
   "outputs": [
    {
     "data": {
      "text/plain": [
       "district\n",
       "Северо-Западный     5.379\n",
       "Юго-Западный        5.360\n",
       "Восточный           4.762\n",
       "Южный               4.596\n",
       "Западный            4.465\n",
       "Северный            4.444\n",
       "Юго-Восточный       4.062\n",
       "Северо-Восточный    4.040\n",
       "Центральный         2.141\n",
       "Name: id, dtype: float64"
      ]
     },
     "execution_count": 68,
     "metadata": {},
     "output_type": "execute_result"
    }
   ],
   "source": [
    "df_group_pizza = df_chain_pizza.groupby('district')['id'].count()\n",
    "df_total_count = df.groupby('district')['id'].count()\n",
    "df_pizza_prec = round(((df_group_pizza / df_total_count).sort_values(ascending=False)) * 100,  3)\n",
    "df_pizza_prec "
   ]
  },
  {
   "cell_type": "markdown",
   "id": "d61a223b-ded3-438d-8f56-853d579528f1",
   "metadata": {},
   "source": [
    "По итогу мы имеем, что сетевых пиццерий больше всего в Северо-Западном и Юго-Западном районе (5% от всех заведений)\n",
    "\n",
    "А в центральном - меньше всего."
   ]
  },
  {
   "cell_type": "code",
   "execution_count": 69,
   "id": "99b1570b-bf1f-423a-99bd-84721924f504",
   "metadata": {},
   "outputs": [
    {
     "data": {
      "image/png": "[encoded data removed]",
      "text/plain": [
       "<Figure size 864x432 with 1 Axes>"
      ]
     },
     "metadata": {
      "needs_background": "light"
     },
     "output_type": "display_data"
    }
   ],
   "source": [
    "plt.figure(figsize=(12,6))\n",
    "df_pizza_prec .plot(kind='bar',\n",
    "                    title='Соотношение сетевых и несетвых пиццерий по округам',\n",
    "                    rot = 15)\n",
    "plt.ylabel('0 - несетевые точки, 1 - сетевые точки')\n",
    "plt.xlabel('Процент')\n",
    "plt.grid(axis='y')\n",
    "plt.show()"
   ]
  },
  {
   "cell_type": "markdown",
   "id": "fad76c71-e7d4-4f9e-bbdb-3d1b52c4206a",
   "metadata": {},
   "source": [
    "По графику можно увидеть, что в центре Москвы преобладают именно несетевые точки, которые составляют более 10% от всех пиццерий города, но в остальных других районах преобладают именно сетевые точки."
   ]
  },
  {
   "cell_type": "markdown",
   "id": "9d56688e-a178-4772-b052-bbece4738278",
   "metadata": {},
   "source": [
    "## Вывод к 4 шагу:\n",
    "1. Больше всего пиццерий в Центральном районе - 113 точек, а меньше всего в Северо-Западном - 43 точки.\n",
    "Но при этом, если смотреть по соотношению пиццерий ко всем ресторанам, то Северо-Западный район имеет самый большой процент точек - 9.7 %, а Центральный находится на последним месте с 5%.\n",
    "2. Практически все пиццерии работаю не круглосуточно и ежедневно, а имеют свой график. При этом сетевых точек примерно столько же, сколько и несетвых;\n",
    "3. Самое большое количество в процентном соотношение сетевых точек находится в Северо-Западном и Юго-Западных районах (по 5.3% от всех точек)."
   ]
  },
  {
   "cell_type": "markdown",
   "id": "9779139c-a450-4bcd-a13f-1abdfdc1c74e",
   "metadata": {},
   "source": [
    "# 5 Итог"
   ]
  },
  {
   "cell_type": "markdown",
   "id": "3bdd3087-9c3a-4bb1-a4db-ed9505740af0",
   "metadata": {},
   "source": [
    "## 5.1. Проделанная работа\n",
    "\n",
    "Была проделана следующая работа:\n",
    "1. Предобработка данных. Были заполнены все пропуски, оптимизированы данные, добавленны новые необходимые столбцы, удалены дубликаты;\n",
    "2. Была предоставлена общая информация обо всём датасете. Количество точек по категориям, количество точек по округам, лучшие сети и т.п..\n",
    "3. Был проведён детальный анализ пиццерий."
   ]
  },
  {
   "cell_type": "markdown",
   "id": "da29ef8a-0240-4e94-9ef1-9fe6e9da1735",
   "metadata": {},
   "source": [
    "## 5.2. Главные выводы\n",
    "\n",
    "По проделанной работе можно сделать следующие выводы:\n",
    "\n",
    "1. Сетевых заведений в Москве меньше, чем несетвых;\n",
    "3. При открытии заведения, стоит учитывать его местоположение, т.к. всего точек кафе больше, но в центре преобладают именно рестораны;\n",
    "4. Ресторанов, кафе и кофеин больше всего по всей Москве и в Центральном районе отдельно. Но при этом пабы и бары имеют самые высокие оценки."
   ]
  },
  {
   "cell_type": "markdown",
   "id": "2819f239-6ba7-4c5f-81e1-4438477fe473",
   "metadata": {},
   "source": [
    "## 5.3. Рекомендации\n",
    "\n",
    "1. Я бы рекомендовал обратить внимание на сетевые точки \"Кофемания\", их меньше всего в топ-15 сетевых заведений, но при этом они обладают самой высокой оценкой, что говорит о качестве. Также, с учётом того, что это кофейня, не так важно местоположение, т.к. кофейни преобладают по всему городу.\n",
    "2. Если открывать своё заведение, я бы присмотрелся к Западному району. Т.к. в нём средний чек достаточно высокий(1000 рублей, как и в Центральном). Но при этом точек не так много(851), а значит конкуренции будет меньше. \n",
    "3. Пиццерия - это отличная идея. Ведь их не так много (633 по всему городу) и при этом, эта категория имеет средний рейтинг 4.3, что находится на втором месте! Отличные районы для пиццерий: ссылаясь ко второму пункту, то Западный, а также Юго-Западный и Северо-Западный. Ведь там пиццерий больше всего, а значит и высокий спрос!"
   ]
  },
  {
   "cell_type": "code",
   "execution_count": null,
   "id": "8dbdaad9",
   "metadata": {},
   "outputs": [],
   "source": []
  },
  {
   "cell_type": "code",
   "execution_count": null,
   "id": "123dbed5-31fc-4614-a226-d0dc358328ee",
   "metadata": {},
   "outputs": [],
   "source": []
  },
  {
   "cell_type": "code",
   "execution_count": null,
   "id": "a7908bca-b0f7-407e-9191-fa92f4b9f396",
   "metadata": {},
   "outputs": [],
   "source": []
  },
  {
   "cell_type": "code",
   "execution_count": null,
   "id": "70b6cdf6-ff5a-4283-8c9d-ea58bb7bd7a0",
   "metadata": {},
   "outputs": [],
   "source": []
  },
  {
   "cell_type": "code",
   "execution_count": null,
   "id": "d963e283-93b9-4723-b7b3-4079502e0d60",
   "metadata": {},
   "outputs": [],
   "source": []
  },
  {
   "cell_type": "code",
   "execution_count": null,
   "id": "0978b086-9a7c-4edf-bed4-66a2e6daa429",
   "metadata": {},
   "outputs": [],
   "source": []
  },
  {
   "cell_type": "code",
   "execution_count": null,
   "id": "318c7d5a-7da1-42c3-b008-1fd8b87de46a",
   "metadata": {},
   "outputs": [],
   "source": []
  },
  {
   "cell_type": "code",
   "execution_count": null,
   "id": "553a4950-da56-450e-998a-4b8511dab9db",
   "metadata": {},
   "outputs": [],
   "source": []
  },
  {
   "cell_type": "code",
   "execution_count": null,
   "id": "b81fd1ed-e533-4825-9a2c-459f005ca952",
   "metadata": {},
   "outputs": [],
   "source": []
  },
  {
   "cell_type": "code",
   "execution_count": null,
   "id": "9ce28482-5835-4ed0-8164-69ab6a769712",
   "metadata": {},
   "outputs": [],
   "source": []
  },
  {
   "cell_type": "code",
   "execution_count": null,
   "id": "19bdec0f-1572-4054-8b1b-3fbbdf379406",
   "metadata": {},
   "outputs": [],
   "source": []
  },
  {
   "cell_type": "code",
   "execution_count": null,
   "id": "11d403ae-4ea4-463f-9b72-017e772ee8ac",
   "metadata": {},
   "outputs": [],
   "source": []
  },
  {
   "cell_type": "code",
   "execution_count": null,
   "id": "6a6bbb1f-7d27-42d9-a55c-79e6723edae9",
   "metadata": {},
   "outputs": [],
   "source": []
  },
  {
   "cell_type": "code",
   "execution_count": null,
   "id": "941ca504-34db-4eac-9d0f-df567bd48716",
   "metadata": {},
   "outputs": [],
   "source": []
  },
  {
   "cell_type": "code",
   "execution_count": null,
   "id": "ab99b554-8720-49af-b712-2898c000636d",
   "metadata": {},
   "outputs": [],
   "source": []
  },
  {
   "cell_type": "code",
   "execution_count": null,
   "id": "982d71db-69a0-493c-9e2e-143e08132ddb",
   "metadata": {},
   "outputs": [],
   "source": []
  },
  {
   "cell_type": "code",
   "execution_count": null,
   "id": "79b43c26-0991-415c-9d46-7db098944e93",
   "metadata": {},
   "outputs": [],
   "source": []
  }
 ],
 "metadata": {
  "ExecuteTimeLog": [
   {
    "duration": 1830,
    "start_time": "2024-12-09T22:37:28.811Z"
   },
   {
    "duration": 280,
    "start_time": "2024-12-09T22:37:30.643Z"
   },
   {
    "duration": 19,
    "start_time": "2024-12-09T22:37:30.925Z"
   },
   {
    "duration": 50,
    "start_time": "2024-12-09T22:37:30.947Z"
   },
   {
    "duration": 13,
    "start_time": "2024-12-09T22:37:30.999Z"
   },
   {
    "duration": 29,
    "start_time": "2024-12-09T22:37:31.014Z"
   },
   {
    "duration": 7,
    "start_time": "2024-12-09T22:37:31.045Z"
   },
   {
    "duration": 11,
    "start_time": "2024-12-09T22:37:31.054Z"
   },
   {
    "duration": 11,
    "start_time": "2024-12-09T22:37:31.066Z"
   },
   {
    "duration": 41,
    "start_time": "2024-12-09T22:37:31.079Z"
   },
   {
    "duration": 9,
    "start_time": "2024-12-09T22:37:31.122Z"
   },
   {
    "duration": 28,
    "start_time": "2024-12-09T22:37:31.133Z"
   },
   {
    "duration": 4,
    "start_time": "2024-12-09T22:37:31.163Z"
   },
   {
    "duration": 9,
    "start_time": "2024-12-09T22:37:31.169Z"
   },
   {
    "duration": 24,
    "start_time": "2024-12-09T22:37:31.179Z"
   },
   {
    "duration": 16,
    "start_time": "2024-12-09T22:37:31.205Z"
   },
   {
    "duration": 26,
    "start_time": "2024-12-09T22:37:31.223Z"
   },
   {
    "duration": 18,
    "start_time": "2024-12-09T22:37:31.251Z"
   },
   {
    "duration": 15,
    "start_time": "2024-12-09T22:37:31.271Z"
   },
   {
    "duration": 25,
    "start_time": "2024-12-09T22:37:31.287Z"
   },
   {
    "duration": 22,
    "start_time": "2024-12-09T22:37:31.313Z"
   },
   {
    "duration": 7,
    "start_time": "2024-12-09T22:37:31.336Z"
   },
   {
    "duration": 9,
    "start_time": "2024-12-09T22:37:31.344Z"
   },
   {
    "duration": 19,
    "start_time": "2024-12-09T22:37:31.354Z"
   },
   {
    "duration": 7,
    "start_time": "2024-12-09T22:37:31.375Z"
   },
   {
    "duration": 194,
    "start_time": "2024-12-09T22:37:31.383Z"
   },
   {
    "duration": 178,
    "start_time": "2024-12-09T22:37:31.578Z"
   },
   {
    "duration": 173,
    "start_time": "2024-12-09T22:37:31.760Z"
   },
   {
    "duration": 196,
    "start_time": "2024-12-09T22:37:31.934Z"
   },
   {
    "duration": 127,
    "start_time": "2024-12-09T22:37:32.131Z"
   },
   {
    "duration": 20,
    "start_time": "2024-12-09T22:37:32.259Z"
   },
   {
    "duration": 130,
    "start_time": "2024-12-09T22:37:32.281Z"
   },
   {
    "duration": 40,
    "start_time": "2024-12-09T22:37:32.413Z"
   },
   {
    "duration": 15,
    "start_time": "2024-12-09T22:37:32.455Z"
   },
   {
    "duration": 16,
    "start_time": "2024-12-09T22:37:32.471Z"
   },
   {
    "duration": 141,
    "start_time": "2024-12-09T22:37:32.489Z"
   },
   {
    "duration": 33,
    "start_time": "2024-12-09T22:37:32.632Z"
   },
   {
    "duration": 252,
    "start_time": "2024-12-09T22:37:32.666Z"
   },
   {
    "duration": 10,
    "start_time": "2024-12-09T22:37:32.921Z"
   },
   {
    "duration": 81,
    "start_time": "2024-12-09T22:37:32.933Z"
   },
   {
    "duration": 5,
    "start_time": "2024-12-09T22:37:33.016Z"
   },
   {
    "duration": 54,
    "start_time": "2024-12-09T22:37:33.023Z"
   },
   {
    "duration": 255,
    "start_time": "2024-12-09T22:37:33.079Z"
   },
   {
    "duration": 248,
    "start_time": "2024-12-09T22:37:33.336Z"
   },
   {
    "duration": 9,
    "start_time": "2024-12-09T22:37:33.587Z"
   },
   {
    "duration": 196,
    "start_time": "2024-12-09T22:37:33.597Z"
   },
   {
    "duration": 1502,
    "start_time": "2024-12-10T10:06:02.079Z"
   },
   {
    "duration": 265,
    "start_time": "2024-12-10T10:06:03.583Z"
   },
   {
    "duration": 12,
    "start_time": "2024-12-10T10:06:03.850Z"
   },
   {
    "duration": 109,
    "start_time": "2024-12-10T10:06:03.864Z"
   },
   {
    "duration": 49,
    "start_time": "2024-12-10T10:06:03.977Z"
   },
   {
    "duration": 32,
    "start_time": "2024-12-10T10:06:04.028Z"
   },
   {
    "duration": 21,
    "start_time": "2024-12-10T10:06:04.062Z"
   },
   {
    "duration": 19,
    "start_time": "2024-12-10T10:06:04.085Z"
   },
   {
    "duration": 46,
    "start_time": "2024-12-10T10:06:04.106Z"
   },
   {
    "duration": 31,
    "start_time": "2024-12-10T10:06:04.154Z"
   },
   {
    "duration": 9,
    "start_time": "2024-12-10T10:06:04.187Z"
   },
   {
    "duration": 28,
    "start_time": "2024-12-10T10:06:04.197Z"
   },
   {
    "duration": 3,
    "start_time": "2024-12-10T10:06:04.227Z"
   },
   {
    "duration": 16,
    "start_time": "2024-12-10T10:06:04.234Z"
   },
   {
    "duration": 16,
    "start_time": "2024-12-10T10:06:04.252Z"
   },
   {
    "duration": 43,
    "start_time": "2024-12-10T10:06:04.270Z"
   },
   {
    "duration": 17,
    "start_time": "2024-12-10T10:06:04.315Z"
   },
   {
    "duration": 6,
    "start_time": "2024-12-10T10:06:04.333Z"
   },
   {
    "duration": 32,
    "start_time": "2024-12-10T10:06:04.340Z"
   },
   {
    "duration": 30,
    "start_time": "2024-12-10T10:06:04.373Z"
   },
   {
    "duration": 28,
    "start_time": "2024-12-10T10:06:04.405Z"
   },
   {
    "duration": 7,
    "start_time": "2024-12-10T10:06:04.435Z"
   },
   {
    "duration": 21,
    "start_time": "2024-12-10T10:06:04.443Z"
   },
   {
    "duration": 39,
    "start_time": "2024-12-10T10:06:04.465Z"
   },
   {
    "duration": 10,
    "start_time": "2024-12-10T10:06:04.505Z"
   },
   {
    "duration": 176,
    "start_time": "2024-12-10T10:06:04.516Z"
   },
   {
    "duration": 174,
    "start_time": "2024-12-10T10:06:04.694Z"
   },
   {
    "duration": 165,
    "start_time": "2024-12-10T10:06:04.870Z"
   },
   {
    "duration": 174,
    "start_time": "2024-12-10T10:06:05.037Z"
   },
   {
    "duration": 125,
    "start_time": "2024-12-10T10:06:05.213Z"
   },
   {
    "duration": 25,
    "start_time": "2024-12-10T10:06:05.340Z"
   },
   {
    "duration": 152,
    "start_time": "2024-12-10T10:06:05.367Z"
   },
   {
    "duration": 41,
    "start_time": "2024-12-10T10:06:05.521Z"
   },
   {
    "duration": 16,
    "start_time": "2024-12-10T10:06:05.564Z"
   },
   {
    "duration": 46,
    "start_time": "2024-12-10T10:06:05.581Z"
   },
   {
    "duration": 137,
    "start_time": "2024-12-10T10:06:05.628Z"
   },
   {
    "duration": 30,
    "start_time": "2024-12-10T10:06:05.766Z"
   },
   {
    "duration": 214,
    "start_time": "2024-12-10T10:06:05.797Z"
   },
   {
    "duration": 4,
    "start_time": "2024-12-10T10:06:06.013Z"
   },
   {
    "duration": 77,
    "start_time": "2024-12-10T10:06:06.019Z"
   },
   {
    "duration": 5,
    "start_time": "2024-12-10T10:06:06.099Z"
   },
   {
    "duration": 52,
    "start_time": "2024-12-10T10:06:06.106Z"
   },
   {
    "duration": 252,
    "start_time": "2024-12-10T10:06:06.159Z"
   },
   {
    "duration": 249,
    "start_time": "2024-12-10T10:06:06.412Z"
   },
   {
    "duration": 7,
    "start_time": "2024-12-10T10:06:06.662Z"
   },
   {
    "duration": 182,
    "start_time": "2024-12-10T10:06:06.670Z"
   },
   {
    "duration": 8,
    "start_time": "2024-12-10T10:14:30.630Z"
   },
   {
    "duration": 1353,
    "start_time": "2024-12-10T10:14:41.590Z"
   },
   {
    "duration": 244,
    "start_time": "2024-12-10T10:14:42.945Z"
   },
   {
    "duration": 12,
    "start_time": "2024-12-10T10:14:43.191Z"
   },
   {
    "duration": 12,
    "start_time": "2024-12-10T10:14:43.204Z"
   },
   {
    "duration": 10,
    "start_time": "2024-12-10T10:14:43.218Z"
   },
   {
    "duration": 30,
    "start_time": "2024-12-10T10:14:43.229Z"
   },
   {
    "duration": 17,
    "start_time": "2024-12-10T10:14:43.260Z"
   },
   {
    "duration": 13,
    "start_time": "2024-12-10T10:14:43.279Z"
   },
   {
    "duration": 10,
    "start_time": "2024-12-10T10:14:43.293Z"
   },
   {
    "duration": 44,
    "start_time": "2024-12-10T10:14:43.304Z"
   },
   {
    "duration": 12,
    "start_time": "2024-12-10T10:14:43.350Z"
   },
   {
    "duration": 13,
    "start_time": "2024-12-10T10:14:43.364Z"
   },
   {
    "duration": 8,
    "start_time": "2024-12-10T10:14:43.378Z"
   },
   {
    "duration": 11,
    "start_time": "2024-12-10T10:14:43.389Z"
   },
   {
    "duration": 22,
    "start_time": "2024-12-10T10:14:43.401Z"
   },
   {
    "duration": 5,
    "start_time": "2024-12-10T10:14:43.425Z"
   },
   {
    "duration": 24,
    "start_time": "2024-12-10T10:14:43.432Z"
   },
   {
    "duration": 7,
    "start_time": "2024-12-10T10:14:43.458Z"
   },
   {
    "duration": 23,
    "start_time": "2024-12-10T10:14:43.467Z"
   },
   {
    "duration": 8,
    "start_time": "2024-12-10T10:14:43.492Z"
   },
   {
    "duration": 22,
    "start_time": "2024-12-10T10:14:43.501Z"
   },
   {
    "duration": 28,
    "start_time": "2024-12-10T10:14:43.525Z"
   },
   {
    "duration": 7,
    "start_time": "2024-12-10T10:14:43.555Z"
   },
   {
    "duration": 18,
    "start_time": "2024-12-10T10:14:43.564Z"
   },
   {
    "duration": 6,
    "start_time": "2024-12-10T10:14:43.584Z"
   },
   {
    "duration": 182,
    "start_time": "2024-12-10T10:14:43.591Z"
   },
   {
    "duration": 185,
    "start_time": "2024-12-10T10:14:43.775Z"
   },
   {
    "duration": 173,
    "start_time": "2024-12-10T10:14:43.963Z"
   },
   {
    "duration": 166,
    "start_time": "2024-12-10T10:14:44.138Z"
   },
   {
    "duration": 128,
    "start_time": "2024-12-10T10:14:44.305Z"
   },
   {
    "duration": 22,
    "start_time": "2024-12-10T10:14:44.434Z"
   },
   {
    "duration": 120,
    "start_time": "2024-12-10T10:14:44.458Z"
   },
   {
    "duration": 30,
    "start_time": "2024-12-10T10:14:44.579Z"
   },
   {
    "duration": 15,
    "start_time": "2024-12-10T10:14:44.611Z"
   },
   {
    "duration": 36,
    "start_time": "2024-12-10T10:14:44.628Z"
   },
   {
    "duration": 124,
    "start_time": "2024-12-10T10:14:44.665Z"
   },
   {
    "duration": 28,
    "start_time": "2024-12-10T10:14:44.791Z"
   },
   {
    "duration": 203,
    "start_time": "2024-12-10T10:14:44.821Z"
   },
   {
    "duration": 5,
    "start_time": "2024-12-10T10:14:45.025Z"
   },
   {
    "duration": 122,
    "start_time": "2024-12-10T10:14:45.031Z"
   },
   {
    "duration": 27,
    "start_time": "2024-12-10T10:14:45.157Z"
   },
   {
    "duration": 40,
    "start_time": "2024-12-10T10:14:45.186Z"
   },
   {
    "duration": 264,
    "start_time": "2024-12-10T10:14:45.227Z"
   },
   {
    "duration": 248,
    "start_time": "2024-12-10T10:14:45.493Z"
   },
   {
    "duration": 11,
    "start_time": "2024-12-10T10:14:45.743Z"
   },
   {
    "duration": 180,
    "start_time": "2024-12-10T10:14:45.756Z"
   },
   {
    "duration": 8,
    "start_time": "2024-12-10T10:14:53.214Z"
   },
   {
    "duration": 65,
    "start_time": "2024-12-10T10:16:17.017Z"
   },
   {
    "duration": 10,
    "start_time": "2024-12-10T10:16:27.660Z"
   },
   {
    "duration": 1858,
    "start_time": "2024-12-10T10:24:11.270Z"
   },
   {
    "duration": 269,
    "start_time": "2024-12-10T10:24:13.130Z"
   },
   {
    "duration": 13,
    "start_time": "2024-12-10T10:24:13.401Z"
   },
   {
    "duration": 33,
    "start_time": "2024-12-10T10:24:13.416Z"
   },
   {
    "duration": 23,
    "start_time": "2024-12-10T10:24:13.451Z"
   },
   {
    "duration": 20,
    "start_time": "2024-12-10T10:24:13.476Z"
   },
   {
    "duration": 7,
    "start_time": "2024-12-10T10:24:13.498Z"
   },
   {
    "duration": 7,
    "start_time": "2024-12-10T10:24:13.506Z"
   },
   {
    "duration": 33,
    "start_time": "2024-12-10T10:24:13.514Z"
   },
   {
    "duration": 32,
    "start_time": "2024-12-10T10:24:13.548Z"
   },
   {
    "duration": 8,
    "start_time": "2024-12-10T10:24:13.582Z"
   },
   {
    "duration": 24,
    "start_time": "2024-12-10T10:24:13.592Z"
   },
   {
    "duration": 3,
    "start_time": "2024-12-10T10:24:13.618Z"
   },
   {
    "duration": 4,
    "start_time": "2024-12-10T10:24:13.624Z"
   },
   {
    "duration": 21,
    "start_time": "2024-12-10T10:24:13.630Z"
   },
   {
    "duration": 22,
    "start_time": "2024-12-10T10:24:13.653Z"
   },
   {
    "duration": 21,
    "start_time": "2024-12-10T10:24:13.678Z"
   },
   {
    "duration": 32,
    "start_time": "2024-12-10T10:24:13.702Z"
   },
   {
    "duration": 7,
    "start_time": "2024-12-10T10:24:13.736Z"
   },
   {
    "duration": 17,
    "start_time": "2024-12-10T10:24:13.744Z"
   },
   {
    "duration": 15,
    "start_time": "2024-12-10T10:24:13.764Z"
   },
   {
    "duration": 16,
    "start_time": "2024-12-10T10:24:13.781Z"
   },
   {
    "duration": 8,
    "start_time": "2024-12-10T10:24:13.799Z"
   },
   {
    "duration": 8,
    "start_time": "2024-12-10T10:24:13.809Z"
   },
   {
    "duration": 37,
    "start_time": "2024-12-10T10:24:13.818Z"
   },
   {
    "duration": 10,
    "start_time": "2024-12-10T10:24:13.857Z"
   },
   {
    "duration": 226,
    "start_time": "2024-12-10T10:24:13.870Z"
   },
   {
    "duration": 182,
    "start_time": "2024-12-10T10:24:14.098Z"
   },
   {
    "duration": 173,
    "start_time": "2024-12-10T10:24:14.282Z"
   },
   {
    "duration": 189,
    "start_time": "2024-12-10T10:24:14.457Z"
   },
   {
    "duration": 138,
    "start_time": "2024-12-10T10:24:14.647Z"
   },
   {
    "duration": 17,
    "start_time": "2024-12-10T10:24:14.786Z"
   },
   {
    "duration": 132,
    "start_time": "2024-12-10T10:24:14.804Z"
   },
   {
    "duration": 48,
    "start_time": "2024-12-10T10:24:14.937Z"
   },
   {
    "duration": 15,
    "start_time": "2024-12-10T10:24:14.987Z"
   },
   {
    "duration": 60,
    "start_time": "2024-12-10T10:24:15.004Z"
   },
   {
    "duration": 136,
    "start_time": "2024-12-10T10:24:15.065Z"
   },
   {
    "duration": 29,
    "start_time": "2024-12-10T10:24:15.203Z"
   },
   {
    "duration": 253,
    "start_time": "2024-12-10T10:24:15.233Z"
   },
   {
    "duration": 6,
    "start_time": "2024-12-10T10:24:15.488Z"
   },
   {
    "duration": 74,
    "start_time": "2024-12-10T10:24:15.499Z"
   },
   {
    "duration": 5,
    "start_time": "2024-12-10T10:24:15.575Z"
   },
   {
    "duration": 27,
    "start_time": "2024-12-10T10:24:15.581Z"
   },
   {
    "duration": 259,
    "start_time": "2024-12-10T10:24:15.610Z"
   },
   {
    "duration": 247,
    "start_time": "2024-12-10T10:24:15.871Z"
   },
   {
    "duration": 6,
    "start_time": "2024-12-10T10:24:16.119Z"
   },
   {
    "duration": 193,
    "start_time": "2024-12-10T10:24:16.126Z"
   },
   {
    "duration": 157,
    "start_time": "2024-12-10T12:00:01.353Z"
   },
   {
    "duration": 8,
    "start_time": "2024-12-10T12:01:23.501Z"
   },
   {
    "duration": 28,
    "start_time": "2024-12-10T12:04:13.910Z"
   },
   {
    "duration": 5,
    "start_time": "2024-12-10T12:04:27.526Z"
   },
   {
    "duration": 27,
    "start_time": "2024-12-10T12:05:30.809Z"
   },
   {
    "duration": 107,
    "start_time": "2024-12-10T12:06:02.454Z"
   },
   {
    "duration": 6,
    "start_time": "2024-12-10T12:06:08.328Z"
   },
   {
    "duration": 30,
    "start_time": "2024-12-10T12:06:24.159Z"
   },
   {
    "duration": 9,
    "start_time": "2024-12-10T12:07:06.064Z"
   },
   {
    "duration": 8,
    "start_time": "2024-12-10T12:07:24.223Z"
   },
   {
    "duration": 11,
    "start_time": "2024-12-10T12:08:08.499Z"
   },
   {
    "duration": 7,
    "start_time": "2024-12-10T12:08:25.340Z"
   },
   {
    "duration": 10,
    "start_time": "2024-12-10T12:08:45.216Z"
   },
   {
    "duration": 10,
    "start_time": "2024-12-10T12:08:59.318Z"
   },
   {
    "duration": 12,
    "start_time": "2024-12-10T12:09:06.731Z"
   },
   {
    "duration": 11,
    "start_time": "2024-12-10T12:11:55.179Z"
   },
   {
    "duration": 80,
    "start_time": "2024-12-10T12:47:36.718Z"
   },
   {
    "duration": 1445,
    "start_time": "2024-12-11T11:42:55.199Z"
   },
   {
    "duration": 259,
    "start_time": "2024-12-11T11:42:56.646Z"
   },
   {
    "duration": 14,
    "start_time": "2024-12-11T11:42:56.906Z"
   },
   {
    "duration": 34,
    "start_time": "2024-12-11T11:42:56.922Z"
   },
   {
    "duration": 13,
    "start_time": "2024-12-11T11:42:56.957Z"
   },
   {
    "duration": 11,
    "start_time": "2024-12-11T11:42:56.971Z"
   },
   {
    "duration": 11,
    "start_time": "2024-12-11T11:42:56.984Z"
   },
   {
    "duration": 15,
    "start_time": "2024-12-11T11:42:56.996Z"
   },
   {
    "duration": 21,
    "start_time": "2024-12-11T11:42:57.012Z"
   },
   {
    "duration": 31,
    "start_time": "2024-12-11T11:42:57.035Z"
   },
   {
    "duration": 9,
    "start_time": "2024-12-11T11:42:57.068Z"
   },
   {
    "duration": 10,
    "start_time": "2024-12-11T11:42:57.079Z"
   },
   {
    "duration": 4,
    "start_time": "2024-12-11T11:42:57.090Z"
   },
   {
    "duration": 26,
    "start_time": "2024-12-11T11:42:57.095Z"
   },
   {
    "duration": 32,
    "start_time": "2024-12-11T11:42:57.122Z"
   },
   {
    "duration": 5,
    "start_time": "2024-12-11T11:42:57.156Z"
   },
   {
    "duration": 34,
    "start_time": "2024-12-11T11:42:57.162Z"
   },
   {
    "duration": 5,
    "start_time": "2024-12-11T11:42:57.198Z"
   },
   {
    "duration": 16,
    "start_time": "2024-12-11T11:42:57.205Z"
   },
   {
    "duration": 7,
    "start_time": "2024-12-11T11:42:57.222Z"
   },
   {
    "duration": 34,
    "start_time": "2024-12-11T11:42:57.231Z"
   },
   {
    "duration": 6,
    "start_time": "2024-12-11T11:42:57.267Z"
   },
   {
    "duration": 37,
    "start_time": "2024-12-11T11:42:57.275Z"
   },
   {
    "duration": 18,
    "start_time": "2024-12-11T11:42:57.314Z"
   },
   {
    "duration": 7,
    "start_time": "2024-12-11T11:42:57.334Z"
   },
   {
    "duration": 186,
    "start_time": "2024-12-11T11:42:57.343Z"
   },
   {
    "duration": 10,
    "start_time": "2024-12-11T11:42:57.530Z"
   },
   {
    "duration": 180,
    "start_time": "2024-12-11T11:42:57.544Z"
   },
   {
    "duration": 7,
    "start_time": "2024-12-11T11:42:57.726Z"
   },
   {
    "duration": 216,
    "start_time": "2024-12-11T11:42:57.734Z"
   },
   {
    "duration": 11,
    "start_time": "2024-12-11T11:42:57.952Z"
   },
   {
    "duration": 234,
    "start_time": "2024-12-11T11:42:57.964Z"
   },
   {
    "duration": 25,
    "start_time": "2024-12-11T11:42:58.200Z"
   },
   {
    "duration": 228,
    "start_time": "2024-12-11T11:42:58.227Z"
   },
   {
    "duration": 7,
    "start_time": "2024-12-11T11:42:58.457Z"
   },
   {
    "duration": 183,
    "start_time": "2024-12-11T11:42:58.466Z"
   },
   {
    "duration": 123,
    "start_time": "2024-12-11T11:42:58.651Z"
   },
   {
    "duration": 18,
    "start_time": "2024-12-11T11:42:58.776Z"
   },
   {
    "duration": 321,
    "start_time": "2024-12-11T11:42:58.795Z"
   },
   {
    "duration": 117,
    "start_time": "2024-12-11T11:42:59.121Z"
   },
   {
    "duration": 33,
    "start_time": "2024-12-11T11:42:59.240Z"
   },
   {
    "duration": 19,
    "start_time": "2024-12-11T11:42:59.275Z"
   },
   {
    "duration": 138,
    "start_time": "2024-12-11T11:42:59.296Z"
   },
   {
    "duration": 34,
    "start_time": "2024-12-11T11:42:59.436Z"
   },
   {
    "duration": 15,
    "start_time": "2024-12-11T11:42:59.472Z"
   },
   {
    "duration": 171,
    "start_time": "2024-12-11T11:42:59.488Z"
   },
   {
    "duration": 5,
    "start_time": "2024-12-11T11:42:59.661Z"
   },
   {
    "duration": 381,
    "start_time": "2024-12-11T11:42:59.668Z"
   },
   {
    "duration": 133,
    "start_time": "2024-12-11T11:43:00.051Z"
   },
   {
    "duration": 4,
    "start_time": "2024-12-11T11:43:00.186Z"
   },
   {
    "duration": 82,
    "start_time": "2024-12-11T11:43:00.192Z"
   },
   {
    "duration": 273,
    "start_time": "2024-12-11T11:43:00.276Z"
   },
   {
    "duration": 274,
    "start_time": "2024-12-11T11:43:00.550Z"
   },
   {
    "duration": 7,
    "start_time": "2024-12-11T11:43:00.826Z"
   },
   {
    "duration": 287,
    "start_time": "2024-12-11T11:43:00.834Z"
   },
   {
    "duration": 16,
    "start_time": "2024-12-11T11:43:01.123Z"
   },
   {
    "duration": 50,
    "start_time": "2024-12-11T11:43:01.140Z"
   },
   {
    "duration": 180,
    "start_time": "2024-12-11T11:43:01.192Z"
   },
   {
    "duration": 195,
    "start_time": "2024-12-11T11:43:01.373Z"
   },
   {
    "duration": 13,
    "start_time": "2024-12-11T11:43:01.569Z"
   },
   {
    "duration": 140,
    "start_time": "2024-12-11T11:43:01.584Z"
   },
   {
    "duration": 136,
    "start_time": "2024-12-11T11:43:01.725Z"
   },
   {
    "duration": 205,
    "start_time": "2024-12-11T11:43:01.862Z"
   },
   {
    "duration": 98,
    "start_time": "2024-12-11T12:21:14.521Z"
   },
   {
    "duration": 7,
    "start_time": "2024-12-11T12:33:49.205Z"
   },
   {
    "duration": 8,
    "start_time": "2024-12-11T12:48:42.116Z"
   },
   {
    "duration": 14,
    "start_time": "2024-12-11T12:48:46.429Z"
   },
   {
    "duration": 8,
    "start_time": "2024-12-11T12:48:53.233Z"
   },
   {
    "duration": 107,
    "start_time": "2024-12-11T13:14:01.782Z"
   },
   {
    "duration": 6,
    "start_time": "2024-12-11T13:14:09.974Z"
   },
   {
    "duration": 6,
    "start_time": "2024-12-11T13:14:22.776Z"
   },
   {
    "duration": 192,
    "start_time": "2024-12-11T13:16:06.050Z"
   },
   {
    "duration": 93,
    "start_time": "2024-12-11T13:19:21.569Z"
   },
   {
    "duration": 52,
    "start_time": "2024-12-11T18:14:41.790Z"
   },
   {
    "duration": 8,
    "start_time": "2024-12-11T18:14:53.670Z"
   },
   {
    "duration": 1582,
    "start_time": "2024-12-11T18:15:01.779Z"
   },
   {
    "duration": 0,
    "start_time": "2024-12-11T18:15:03.364Z"
   },
   {
    "duration": 0,
    "start_time": "2024-12-11T18:15:03.365Z"
   },
   {
    "duration": 0,
    "start_time": "2024-12-11T18:15:03.366Z"
   },
   {
    "duration": 0,
    "start_time": "2024-12-11T18:15:03.367Z"
   },
   {
    "duration": 0,
    "start_time": "2024-12-11T18:15:03.369Z"
   },
   {
    "duration": 0,
    "start_time": "2024-12-11T18:15:03.370Z"
   },
   {
    "duration": 0,
    "start_time": "2024-12-11T18:15:03.371Z"
   },
   {
    "duration": 0,
    "start_time": "2024-12-11T18:15:03.372Z"
   },
   {
    "duration": 0,
    "start_time": "2024-12-11T18:15:03.374Z"
   },
   {
    "duration": 0,
    "start_time": "2024-12-11T18:15:03.392Z"
   },
   {
    "duration": 0,
    "start_time": "2024-12-11T18:15:03.394Z"
   },
   {
    "duration": 0,
    "start_time": "2024-12-11T18:15:03.395Z"
   },
   {
    "duration": 0,
    "start_time": "2024-12-11T18:15:03.396Z"
   },
   {
    "duration": 1,
    "start_time": "2024-12-11T18:15:03.397Z"
   },
   {
    "duration": 0,
    "start_time": "2024-12-11T18:15:03.399Z"
   },
   {
    "duration": 10,
    "start_time": "2024-12-11T18:15:03.449Z"
   },
   {
    "duration": 9,
    "start_time": "2024-12-11T18:15:03.486Z"
   },
   {
    "duration": 9,
    "start_time": "2024-12-11T18:15:03.576Z"
   },
   {
    "duration": 26,
    "start_time": "2024-12-11T18:15:03.597Z"
   },
   {
    "duration": 9,
    "start_time": "2024-12-11T18:15:03.766Z"
   },
   {
    "duration": 10,
    "start_time": "2024-12-11T18:15:03.890Z"
   },
   {
    "duration": 10,
    "start_time": "2024-12-11T18:15:04.016Z"
   },
   {
    "duration": 9,
    "start_time": "2024-12-11T18:15:04.094Z"
   },
   {
    "duration": 9,
    "start_time": "2024-12-11T18:15:04.284Z"
   },
   {
    "duration": 15,
    "start_time": "2024-12-11T18:15:04.346Z"
   },
   {
    "duration": 9,
    "start_time": "2024-12-11T18:15:04.455Z"
   },
   {
    "duration": 15,
    "start_time": "2024-12-11T18:15:04.487Z"
   },
   {
    "duration": 10,
    "start_time": "2024-12-11T18:15:04.678Z"
   },
   {
    "duration": 12,
    "start_time": "2024-12-11T18:15:04.730Z"
   },
   {
    "duration": 9,
    "start_time": "2024-12-11T18:15:04.788Z"
   },
   {
    "duration": 10,
    "start_time": "2024-12-11T18:15:04.815Z"
   },
   {
    "duration": 11,
    "start_time": "2024-12-11T18:15:04.944Z"
   },
   {
    "duration": 12,
    "start_time": "2024-12-11T18:15:04.991Z"
   },
   {
    "duration": 9,
    "start_time": "2024-12-11T18:15:05.016Z"
   },
   {
    "duration": 17,
    "start_time": "2024-12-11T18:15:05.052Z"
   },
   {
    "duration": 10,
    "start_time": "2024-12-11T18:15:05.286Z"
   },
   {
    "duration": 10,
    "start_time": "2024-12-11T18:15:05.381Z"
   },
   {
    "duration": 10,
    "start_time": "2024-12-11T18:15:05.416Z"
   },
   {
    "duration": 13,
    "start_time": "2024-12-11T18:15:05.581Z"
   },
   {
    "duration": 10,
    "start_time": "2024-12-11T18:15:05.653Z"
   },
   {
    "duration": 10,
    "start_time": "2024-12-11T18:15:05.746Z"
   },
   {
    "duration": 14,
    "start_time": "2024-12-11T18:15:05.773Z"
   },
   {
    "duration": 28,
    "start_time": "2024-12-11T18:15:05.804Z"
   },
   {
    "duration": 11,
    "start_time": "2024-12-11T18:15:05.980Z"
   },
   {
    "duration": 10,
    "start_time": "2024-12-11T18:15:06.571Z"
   },
   {
    "duration": 10,
    "start_time": "2024-12-11T18:15:54.708Z"
   },
   {
    "duration": 1465,
    "start_time": "2024-12-12T17:22:30.979Z"
   },
   {
    "duration": 211,
    "start_time": "2024-12-12T17:22:32.446Z"
   },
   {
    "duration": 16,
    "start_time": "2024-12-12T17:22:32.658Z"
   },
   {
    "duration": 19,
    "start_time": "2024-12-12T17:22:32.676Z"
   },
   {
    "duration": 42,
    "start_time": "2024-12-12T17:22:32.697Z"
   },
   {
    "duration": 46,
    "start_time": "2024-12-12T17:22:32.740Z"
   },
   {
    "duration": 47,
    "start_time": "2024-12-12T17:22:32.788Z"
   },
   {
    "duration": 76,
    "start_time": "2024-12-12T17:22:32.837Z"
   },
   {
    "duration": 15,
    "start_time": "2024-12-12T17:22:32.915Z"
   },
   {
    "duration": 46,
    "start_time": "2024-12-12T17:22:32.932Z"
   },
   {
    "duration": 20,
    "start_time": "2024-12-12T17:22:32.980Z"
   },
   {
    "duration": 40,
    "start_time": "2024-12-12T17:22:33.002Z"
   },
   {
    "duration": 35,
    "start_time": "2024-12-12T17:22:33.044Z"
   },
   {
    "duration": 27,
    "start_time": "2024-12-12T17:22:33.083Z"
   },
   {
    "duration": 40,
    "start_time": "2024-12-12T17:22:33.112Z"
   },
   {
    "duration": 26,
    "start_time": "2024-12-12T17:22:33.155Z"
   },
   {
    "duration": 40,
    "start_time": "2024-12-12T17:22:33.183Z"
   },
   {
    "duration": 6,
    "start_time": "2024-12-12T17:22:33.225Z"
   },
   {
    "duration": 26,
    "start_time": "2024-12-12T17:22:33.232Z"
   },
   {
    "duration": 20,
    "start_time": "2024-12-12T17:22:33.259Z"
   },
   {
    "duration": 65,
    "start_time": "2024-12-12T17:22:33.280Z"
   },
   {
    "duration": 55,
    "start_time": "2024-12-12T17:22:33.346Z"
   },
   {
    "duration": 20,
    "start_time": "2024-12-12T17:22:33.402Z"
   },
   {
    "duration": 85,
    "start_time": "2024-12-12T17:22:33.423Z"
   },
   {
    "duration": 23,
    "start_time": "2024-12-12T17:22:33.510Z"
   },
   {
    "duration": 254,
    "start_time": "2024-12-12T17:22:33.535Z"
   },
   {
    "duration": 8,
    "start_time": "2024-12-12T17:22:33.791Z"
   },
   {
    "duration": 194,
    "start_time": "2024-12-12T17:22:33.801Z"
   },
   {
    "duration": 11,
    "start_time": "2024-12-12T17:22:33.997Z"
   },
   {
    "duration": 537,
    "start_time": "2024-12-12T17:22:34.010Z"
   },
   {
    "duration": 12,
    "start_time": "2024-12-12T17:22:34.550Z"
   },
   {
    "duration": 472,
    "start_time": "2024-12-12T17:22:34.564Z"
   },
   {
    "duration": 11,
    "start_time": "2024-12-12T17:22:35.038Z"
   },
   {
    "duration": 37,
    "start_time": "2024-12-12T17:22:35.050Z"
   },
   {
    "duration": 380,
    "start_time": "2024-12-12T17:22:35.089Z"
   },
   {
    "duration": 328,
    "start_time": "2024-12-12T17:22:35.471Z"
   },
   {
    "duration": 20,
    "start_time": "2024-12-12T17:22:35.830Z"
   },
   {
    "duration": 230,
    "start_time": "2024-12-12T17:22:35.851Z"
   },
   {
    "duration": 212,
    "start_time": "2024-12-12T17:22:36.084Z"
   },
   {
    "duration": 44,
    "start_time": "2024-12-12T17:22:36.298Z"
   },
   {
    "duration": 7,
    "start_time": "2024-12-12T17:22:36.348Z"
   },
   {
    "duration": 185,
    "start_time": "2024-12-12T17:22:36.357Z"
   },
   {
    "duration": 10,
    "start_time": "2024-12-12T17:22:36.544Z"
   },
   {
    "duration": 178,
    "start_time": "2024-12-12T17:22:36.555Z"
   },
   {
    "duration": 5,
    "start_time": "2024-12-12T17:22:36.735Z"
   },
   {
    "duration": 291,
    "start_time": "2024-12-12T17:22:36.742Z"
   },
   {
    "duration": 256,
    "start_time": "2024-12-12T17:22:37.035Z"
   },
   {
    "duration": 151,
    "start_time": "2024-12-12T17:22:37.293Z"
   },
   {
    "duration": 5,
    "start_time": "2024-12-12T17:22:37.445Z"
   },
   {
    "duration": 38,
    "start_time": "2024-12-12T17:22:37.451Z"
   },
   {
    "duration": 279,
    "start_time": "2024-12-12T17:22:37.491Z"
   },
   {
    "duration": 273,
    "start_time": "2024-12-12T17:22:37.772Z"
   },
   {
    "duration": 146,
    "start_time": "2024-12-12T17:22:38.046Z"
   },
   {
    "duration": 8,
    "start_time": "2024-12-12T17:22:38.194Z"
   },
   {
    "duration": 26,
    "start_time": "2024-12-12T17:22:38.204Z"
   },
   {
    "duration": 214,
    "start_time": "2024-12-12T17:22:38.231Z"
   },
   {
    "duration": 20,
    "start_time": "2024-12-12T17:22:38.447Z"
   },
   {
    "duration": 13,
    "start_time": "2024-12-12T17:22:38.468Z"
   },
   {
    "duration": 217,
    "start_time": "2024-12-12T17:22:38.483Z"
   },
   {
    "duration": 9,
    "start_time": "2024-12-12T17:22:38.702Z"
   },
   {
    "duration": 21,
    "start_time": "2024-12-12T17:22:38.713Z"
   },
   {
    "duration": 199,
    "start_time": "2024-12-12T17:22:38.736Z"
   },
   {
    "duration": 12,
    "start_time": "2024-12-12T17:22:38.936Z"
   },
   {
    "duration": 239,
    "start_time": "2024-12-12T17:22:38.950Z"
   },
   {
    "duration": 141,
    "start_time": "2024-12-12T17:22:39.191Z"
   },
   {
    "duration": 250,
    "start_time": "2024-12-12T17:22:39.334Z"
   },
   {
    "duration": 18,
    "start_time": "2024-12-12T17:22:39.586Z"
   },
   {
    "duration": 60,
    "start_time": "2024-12-12T17:22:39.606Z"
   },
   {
    "duration": 190,
    "start_time": "2024-12-12T17:22:39.668Z"
   },
   {
    "duration": 8,
    "start_time": "2024-12-12T17:30:35.336Z"
   },
   {
    "duration": 19,
    "start_time": "2024-12-12T17:33:31.176Z"
   },
   {
    "duration": 71,
    "start_time": "2024-12-12T17:38:38.635Z"
   }
  ],
  "kernelspec": {
   "display_name": "Python 3 (ipykernel)",
   "language": "python",
   "name": "python3"
  },
  "language_info": {
   "codemirror_mode": {
    "name": "ipython",
    "version": 3
   },
   "file_extension": ".py",
   "mimetype": "text/x-python",
   "name": "python",
   "nbconvert_exporter": "python",
   "pygments_lexer": "ipython3",
   "version": "3.9.13"
  },
  "toc": {
   "base_numbering": 1,
   "nav_menu": {},
   "number_sections": true,
   "sideBar": true,
   "skip_h1_title": true,
   "title_cell": "Table of Contents",
   "title_sidebar": "Contents",
   "toc_cell": false,
   "toc_position": {},
   "toc_section_display": true,
   "toc_window_display": true
  }
 },
 "nbformat": 4,
 "nbformat_minor": 5
}
